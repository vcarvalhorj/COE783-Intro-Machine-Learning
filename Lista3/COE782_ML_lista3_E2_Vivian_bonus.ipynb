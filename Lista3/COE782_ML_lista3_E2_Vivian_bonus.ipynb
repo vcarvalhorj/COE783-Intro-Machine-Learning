{
 "cells": [
  {
   "cell_type": "markdown",
   "id": "60d243d3",
   "metadata": {},
   "source": [
    "# COE782- ML - Lista3 - E2"
   ]
  },
  {
   "cell_type": "markdown",
   "id": "f210262e",
   "metadata": {},
   "source": [
    "## Dados câncer próstata\n",
    "Resolução Bonus\n",
    "\n",
    "Aluno: Vivian de Carvalho Rodrigues\n",
    "\n",
    "DRE:125228569 "
   ]
  },
  {
   "cell_type": "code",
   "execution_count": 1,
   "id": "29ddc40d",
   "metadata": {},
   "outputs": [],
   "source": [
    "import numpy as np\n",
    "import pandas as pd\n",
    "from sklearn.model_selection import train_test_split\n",
    "from sklearn.preprocessing import StandardScaler \n",
    "from sklearn.linear_model import LinearRegression, Ridge, Lasso \n",
    "\n",
    "#importa os dados do arquivo .csv na mesma pasta deste arquivo\n",
    "df = pd.read_csv('dados_prostata.csv', sep ='\\s+')"
   ]
  },
  {
   "cell_type": "code",
   "execution_count": 2,
   "id": "d5110f24",
   "metadata": {},
   "outputs": [
    {
     "data": {
      "text/html": [
       "<div>\n",
       "<style scoped>\n",
       "    .dataframe tbody tr th:only-of-type {\n",
       "        vertical-align: middle;\n",
       "    }\n",
       "\n",
       "    .dataframe tbody tr th {\n",
       "        vertical-align: top;\n",
       "    }\n",
       "\n",
       "    .dataframe thead th {\n",
       "        text-align: right;\n",
       "    }\n",
       "</style>\n",
       "<table border=\"1\" class=\"dataframe\">\n",
       "  <thead>\n",
       "    <tr style=\"text-align: right;\">\n",
       "      <th></th>\n",
       "      <th>lcavol</th>\n",
       "      <th>lweight</th>\n",
       "      <th>age</th>\n",
       "      <th>lbph</th>\n",
       "      <th>svi</th>\n",
       "      <th>lcp</th>\n",
       "      <th>gleason</th>\n",
       "      <th>pgg45</th>\n",
       "      <th>lpsa</th>\n",
       "      <th>train</th>\n",
       "    </tr>\n",
       "  </thead>\n",
       "  <tbody>\n",
       "    <tr>\n",
       "      <th>0</th>\n",
       "      <td>-0.579818</td>\n",
       "      <td>2.769459</td>\n",
       "      <td>50</td>\n",
       "      <td>-1.386294</td>\n",
       "      <td>0</td>\n",
       "      <td>-1.386294</td>\n",
       "      <td>6</td>\n",
       "      <td>0</td>\n",
       "      <td>-0.430783</td>\n",
       "      <td>T</td>\n",
       "    </tr>\n",
       "    <tr>\n",
       "      <th>1</th>\n",
       "      <td>-0.994252</td>\n",
       "      <td>3.319626</td>\n",
       "      <td>58</td>\n",
       "      <td>-1.386294</td>\n",
       "      <td>0</td>\n",
       "      <td>-1.386294</td>\n",
       "      <td>6</td>\n",
       "      <td>0</td>\n",
       "      <td>-0.162519</td>\n",
       "      <td>T</td>\n",
       "    </tr>\n",
       "    <tr>\n",
       "      <th>2</th>\n",
       "      <td>-0.510826</td>\n",
       "      <td>2.691243</td>\n",
       "      <td>74</td>\n",
       "      <td>-1.386294</td>\n",
       "      <td>0</td>\n",
       "      <td>-1.386294</td>\n",
       "      <td>7</td>\n",
       "      <td>20</td>\n",
       "      <td>-0.162519</td>\n",
       "      <td>T</td>\n",
       "    </tr>\n",
       "    <tr>\n",
       "      <th>3</th>\n",
       "      <td>-1.203973</td>\n",
       "      <td>3.282789</td>\n",
       "      <td>58</td>\n",
       "      <td>-1.386294</td>\n",
       "      <td>0</td>\n",
       "      <td>-1.386294</td>\n",
       "      <td>6</td>\n",
       "      <td>0</td>\n",
       "      <td>-0.162519</td>\n",
       "      <td>T</td>\n",
       "    </tr>\n",
       "    <tr>\n",
       "      <th>4</th>\n",
       "      <td>0.751416</td>\n",
       "      <td>3.432373</td>\n",
       "      <td>62</td>\n",
       "      <td>-1.386294</td>\n",
       "      <td>0</td>\n",
       "      <td>-1.386294</td>\n",
       "      <td>6</td>\n",
       "      <td>0</td>\n",
       "      <td>0.371564</td>\n",
       "      <td>T</td>\n",
       "    </tr>\n",
       "  </tbody>\n",
       "</table>\n",
       "</div>"
      ],
      "text/plain": [
       "     lcavol   lweight  age      lbph  svi       lcp  gleason  pgg45      lpsa  \\\n",
       "0 -0.579818  2.769459   50 -1.386294    0 -1.386294        6      0 -0.430783   \n",
       "1 -0.994252  3.319626   58 -1.386294    0 -1.386294        6      0 -0.162519   \n",
       "2 -0.510826  2.691243   74 -1.386294    0 -1.386294        7     20 -0.162519   \n",
       "3 -1.203973  3.282789   58 -1.386294    0 -1.386294        6      0 -0.162519   \n",
       "4  0.751416  3.432373   62 -1.386294    0 -1.386294        6      0  0.371564   \n",
       "\n",
       "  train  \n",
       "0     T  \n",
       "1     T  \n",
       "2     T  \n",
       "3     T  \n",
       "4     T  "
      ]
     },
     "execution_count": 2,
     "metadata": {},
     "output_type": "execute_result"
    }
   ],
   "source": [
    "df.index = np.arange(97)\n",
    "df.head()"
   ]
  },
  {
   "cell_type": "code",
   "execution_count": 3,
   "id": "31b4c56f",
   "metadata": {},
   "outputs": [],
   "source": [
    "#dados numéricos para padronização (desconsiderou-se as colunas de indices, \"Train\" e  \"lpsa\")\n",
    "#Considera-se somente os dados de entrada \n",
    "data = df.iloc[:,:8].to_numpy()"
   ]
  },
  {
   "cell_type": "code",
   "execution_count": 4,
   "id": "3017e8ea",
   "metadata": {},
   "outputs": [
    {
     "data": {
      "text/plain": [
       "(97, 8)"
      ]
     },
     "execution_count": 4,
     "metadata": {},
     "output_type": "execute_result"
    }
   ],
   "source": [
    "data.shape"
   ]
  },
  {
   "cell_type": "code",
   "execution_count": 5,
   "id": "c372bbc4",
   "metadata": {},
   "outputs": [
    {
     "data": {
      "text/html": [
       "<style>#sk-container-id-1 {color: black;background-color: white;}#sk-container-id-1 pre{padding: 0;}#sk-container-id-1 div.sk-toggleable {background-color: white;}#sk-container-id-1 label.sk-toggleable__label {cursor: pointer;display: block;width: 100%;margin-bottom: 0;padding: 0.3em;box-sizing: border-box;text-align: center;}#sk-container-id-1 label.sk-toggleable__label-arrow:before {content: \"▸\";float: left;margin-right: 0.25em;color: #696969;}#sk-container-id-1 label.sk-toggleable__label-arrow:hover:before {color: black;}#sk-container-id-1 div.sk-estimator:hover label.sk-toggleable__label-arrow:before {color: black;}#sk-container-id-1 div.sk-toggleable__content {max-height: 0;max-width: 0;overflow: hidden;text-align: left;background-color: #f0f8ff;}#sk-container-id-1 div.sk-toggleable__content pre {margin: 0.2em;color: black;border-radius: 0.25em;background-color: #f0f8ff;}#sk-container-id-1 input.sk-toggleable__control:checked~div.sk-toggleable__content {max-height: 200px;max-width: 100%;overflow: auto;}#sk-container-id-1 input.sk-toggleable__control:checked~label.sk-toggleable__label-arrow:before {content: \"▾\";}#sk-container-id-1 div.sk-estimator input.sk-toggleable__control:checked~label.sk-toggleable__label {background-color: #d4ebff;}#sk-container-id-1 div.sk-label input.sk-toggleable__control:checked~label.sk-toggleable__label {background-color: #d4ebff;}#sk-container-id-1 input.sk-hidden--visually {border: 0;clip: rect(1px 1px 1px 1px);clip: rect(1px, 1px, 1px, 1px);height: 1px;margin: -1px;overflow: hidden;padding: 0;position: absolute;width: 1px;}#sk-container-id-1 div.sk-estimator {font-family: monospace;background-color: #f0f8ff;border: 1px dotted black;border-radius: 0.25em;box-sizing: border-box;margin-bottom: 0.5em;}#sk-container-id-1 div.sk-estimator:hover {background-color: #d4ebff;}#sk-container-id-1 div.sk-parallel-item::after {content: \"\";width: 100%;border-bottom: 1px solid gray;flex-grow: 1;}#sk-container-id-1 div.sk-label:hover label.sk-toggleable__label {background-color: #d4ebff;}#sk-container-id-1 div.sk-serial::before {content: \"\";position: absolute;border-left: 1px solid gray;box-sizing: border-box;top: 0;bottom: 0;left: 50%;z-index: 0;}#sk-container-id-1 div.sk-serial {display: flex;flex-direction: column;align-items: center;background-color: white;padding-right: 0.2em;padding-left: 0.2em;position: relative;}#sk-container-id-1 div.sk-item {position: relative;z-index: 1;}#sk-container-id-1 div.sk-parallel {display: flex;align-items: stretch;justify-content: center;background-color: white;position: relative;}#sk-container-id-1 div.sk-item::before, #sk-container-id-1 div.sk-parallel-item::before {content: \"\";position: absolute;border-left: 1px solid gray;box-sizing: border-box;top: 0;bottom: 0;left: 50%;z-index: -1;}#sk-container-id-1 div.sk-parallel-item {display: flex;flex-direction: column;z-index: 1;position: relative;background-color: white;}#sk-container-id-1 div.sk-parallel-item:first-child::after {align-self: flex-end;width: 50%;}#sk-container-id-1 div.sk-parallel-item:last-child::after {align-self: flex-start;width: 50%;}#sk-container-id-1 div.sk-parallel-item:only-child::after {width: 0;}#sk-container-id-1 div.sk-dashed-wrapped {border: 1px dashed gray;margin: 0 0.4em 0.5em 0.4em;box-sizing: border-box;padding-bottom: 0.4em;background-color: white;}#sk-container-id-1 div.sk-label label {font-family: monospace;font-weight: bold;display: inline-block;line-height: 1.2em;}#sk-container-id-1 div.sk-label-container {text-align: center;}#sk-container-id-1 div.sk-container {/* jupyter's `normalize.less` sets `[hidden] { display: none; }` but bootstrap.min.css set `[hidden] { display: none !important; }` so we also need the `!important` here to be able to override the default hidden behavior on the sphinx rendered scikit-learn.org. See: https://github.com/scikit-learn/scikit-learn/issues/21755 */display: inline-block !important;position: relative;}#sk-container-id-1 div.sk-text-repr-fallback {display: none;}</style><div id=\"sk-container-id-1\" class=\"sk-top-container\"><div class=\"sk-text-repr-fallback\"><pre>StandardScaler()</pre><b>In a Jupyter environment, please rerun this cell to show the HTML representation or trust the notebook. <br />On GitHub, the HTML representation is unable to render, please try loading this page with nbviewer.org.</b></div><div class=\"sk-container\" hidden><div class=\"sk-item\"><div class=\"sk-estimator sk-toggleable\"><input class=\"sk-toggleable__control sk-hidden--visually\" id=\"sk-estimator-id-1\" type=\"checkbox\" checked><label for=\"sk-estimator-id-1\" class=\"sk-toggleable__label sk-toggleable__label-arrow\">StandardScaler</label><div class=\"sk-toggleable__content\"><pre>StandardScaler()</pre></div></div></div></div></div>"
      ],
      "text/plain": [
       "StandardScaler()"
      ]
     },
     "execution_count": 5,
     "metadata": {},
     "output_type": "execute_result"
    }
   ],
   "source": [
    "#a)padronização dos dados\n",
    "scaler = StandardScaler()\n",
    "scaler"
   ]
  },
  {
   "cell_type": "code",
   "execution_count": 6,
   "id": "f455406e",
   "metadata": {},
   "outputs": [
    {
     "data": {
      "text/plain": [
       "(97, 8)"
      ]
     },
     "execution_count": 6,
     "metadata": {},
     "output_type": "execute_result"
    }
   ],
   "source": [
    "datastd = scaler.fit_transform(data)\n",
    "datastd.shape"
   ]
  },
  {
   "cell_type": "code",
   "execution_count": 7,
   "id": "cd00ec6f",
   "metadata": {},
   "outputs": [],
   "source": [
    "#dataframe com dados de entrada X padronizados\n",
    "\n",
    "#inclui os dados y ('lpsa') originais\n",
    "df_std_aux= pd.DataFrame(datastd, columns= ['lcavol', 'lweight', 'age', 'lbph', 'svi', 'lcp', 'gleason', 'pgg45']).merge(df['lpsa'],left_index= True, right_index = True)\n",
    "#incluindo novamente as classes de treino e teste\n",
    "df_std=df_std_aux.merge(df['train'],left_index= True, right_index = True)\n"
   ]
  },
  {
   "cell_type": "code",
   "execution_count": 8,
   "id": "27c5b254",
   "metadata": {},
   "outputs": [],
   "source": [
    "#b)divisão dos dados em treino e teste\n",
    "#parcela de treino\n",
    "dfs_train = df_std.loc[df_std['train'] == 'T']\n"
   ]
  },
  {
   "cell_type": "code",
   "execution_count": 9,
   "id": "a9532938",
   "metadata": {},
   "outputs": [],
   "source": [
    "#parcela de teste\n",
    "dfs_test = df_std.loc[df_std['train'] == 'F']\n"
   ]
  },
  {
   "cell_type": "code",
   "execution_count": 10,
   "id": "98ee4999",
   "metadata": {},
   "outputs": [],
   "source": [
    "#organiza dados de entrada e saída do treinamento: 67 registros\n",
    "X_train = dfs_train.iloc[:,:8].to_numpy()\n",
    "y_train = dfs_train.iloc[:,8:9].to_numpy().reshape(67)\n",
    "\n",
    "#organiza dados de entrada e saída de teste: 30 registros\n",
    "X_test = dfs_test.iloc[:,:8].to_numpy()\n",
    "y_test = dfs_test.iloc[:,8:9].to_numpy().reshape(30)"
   ]
  },
  {
   "cell_type": "code",
   "execution_count": 11,
   "id": "50672711",
   "metadata": {},
   "outputs": [
    {
     "data": {
      "text/plain": [
       "(67,)"
      ]
     },
     "execution_count": 11,
     "metadata": {},
     "output_type": "execute_result"
    }
   ],
   "source": [
    "y_train.shape"
   ]
  },
  {
   "cell_type": "raw",
   "id": "d73f20b3",
   "metadata": {},
   "source": [
    "RIDGE"
   ]
  },
  {
   "cell_type": "code",
   "execution_count": 12,
   "id": "dbd87939",
   "metadata": {},
   "outputs": [
    {
     "data": {
      "text/plain": [
       "(2.4652375921213907,\n",
       " array([ 0.66795437,  0.26171698, -0.13837883,  0.20821166,  0.3014456 ,\n",
       "        -0.27585641, -0.01781654,  0.25911689]))"
      ]
     },
     "execution_count": 12,
     "metadata": {},
     "output_type": "execute_result"
    }
   ],
   "source": [
    "#Modelo Ridge\n",
    "\n",
    "freg =0.345                 #fator de regularização - lambda do Bishop\n",
    "ridge = Ridge(alpha=freg)   #modelo\n",
    "ridge.fit(X_train, y_train)\n",
    "ridge.intercept_, ridge.coef_"
   ]
  },
  {
   "cell_type": "code",
   "execution_count": 13,
   "id": "fc9d3b1a",
   "metadata": {},
   "outputs": [
    {
     "data": {
      "text/plain": [
       "(67,)"
      ]
     },
     "execution_count": 13,
     "metadata": {},
     "output_type": "execute_result"
    }
   ],
   "source": [
    "#predicoes\n",
    "predt = ridge.predict(X_train)     #predicao dados de treinamento\n",
    "\n",
    "residuals = y_train - predt\n",
    "residuals.shape"
   ]
  },
  {
   "cell_type": "code",
   "execution_count": 14,
   "id": "df8d4906",
   "metadata": {},
   "outputs": [],
   "source": [
    "# Bootstrap\n",
    "n_bootstraps = 1000\n",
    "coef_samples_ridge = []\n",
    "\n",
    "rng = np.random.default_rng(seed=42)\n",
    "for _ in range(n_bootstraps):\n",
    "    resampled_residuals = rng.choice(residuals, size=len(residuals), replace=True)\n",
    "    y_bootstrap = predt + resampled_residuals\n",
    "\n",
    "    model_boot = Ridge(alpha=0.345)\n",
    "    model_boot.fit(X_train, y_bootstrap)\n",
    "    coef_samples_ridge.append(model_boot.coef_)\n",
    "\n",
    "coef_samples_ridge = np.array(coef_samples_ridge)\n",
    "coef_std_ridge = coef_samples_ridge.std(axis=0)"
   ]
  },
  {
   "cell_type": "code",
   "execution_count": 15,
   "id": "d962bf0e",
   "metadata": {},
   "outputs": [
    {
     "name": "stdout",
     "output_type": "stream",
     "text": [
      "\n",
      "RIDGE:\n",
      "lcavol     | Coef:  0.6680 | Desvio padrão (bootstrap):  0.1129\n",
      "lweight    | Coef:  0.2617 | Desvio padrão (bootstrap):  0.0882\n",
      "age        | Coef: -0.1384 | Desvio padrão (bootstrap):  0.0917\n",
      "lbph       | Coef:  0.2082 | Desvio padrão (bootstrap):  0.0956\n",
      "svi        | Coef:  0.3014 | Desvio padrão (bootstrap):  0.1127\n",
      "lcp        | Coef: -0.2759 | Desvio padrão (bootstrap):  0.1384\n",
      "gleason    | Coef: -0.0178 | Desvio padrão (bootstrap):  0.1291\n",
      "pgg45      | Coef:  0.2591 | Desvio padrão (bootstrap):  0.1370\n"
     ]
    }
   ],
   "source": [
    "# Resultados\n",
    "print(\"\\nRIDGE:\")\n",
    "for i, col in enumerate(df_std.iloc[:,:8].columns):\n",
    "    print(f\"{col:10s} | Coef: {ridge.coef_[i]: .4f} | Desvio padrão (bootstrap): {coef_std_ridge[i]: .4f}\")"
   ]
  },
  {
   "cell_type": "raw",
   "id": "479d4967",
   "metadata": {},
   "source": [
    "LASSO"
   ]
  },
  {
   "cell_type": "code",
   "execution_count": 16,
   "id": "a5d0770f",
   "metadata": {},
   "outputs": [
    {
     "name": "stdout",
     "output_type": "stream",
     "text": [
      "LASSO:\n",
      "lcavol     | Coef:  0.4729 | Desvio padrão (bootstrap):  0.0949\n",
      "lweight    | Coef:  0.0892 | Desvio padrão (bootstrap):  0.0145\n",
      "age        | Coef:  0.0000 | Desvio padrão (bootstrap):  0.0035\n",
      "lbph       | Coef:  0.0000 | Desvio padrão (bootstrap):  0.0008\n",
      "svi        | Coef:  0.0000 | Desvio padrão (bootstrap):  0.0106\n",
      "lcp        | Coef:  0.0000 | Desvio padrão (bootstrap):  0.0192\n",
      "gleason    | Coef:  0.0000 | Desvio padrão (bootstrap):  0.0009\n",
      "pgg45      | Coef:  0.0000 | Desvio padrão (bootstrap):  0.0047\n"
     ]
    }
   ],
   "source": [
    "#Lasso\n",
    "lasso = Lasso(alpha=0.37, max_iter=10000)\n",
    "lasso.fit(X_train, y_train)\n",
    "y_pred = lasso.predict(X_train)\n",
    "residuals = y_train - y_pred\n",
    "\n",
    "# Bootstrap\n",
    "n_bootstraps = 1000\n",
    "coef_samples_lasso = []\n",
    "\n",
    "rng = np.random.default_rng(seed=42)\n",
    "for _ in range(n_bootstraps):\n",
    "    resampled_residuals = rng.choice(residuals, size=len(residuals), replace=True)\n",
    "    y_bootstrap = y_pred + resampled_residuals\n",
    "\n",
    "    model_boot = Lasso(alpha=0.37, max_iter=10000)\n",
    "    model_boot.fit(X_train, y_bootstrap)\n",
    "    coef_samples_lasso.append(model_boot.coef_)\n",
    "\n",
    "coef_samples_lasso = np.array(coef_samples_lasso)\n",
    "coef_std_lasso = coef_samples_lasso.std(axis=0)\n",
    "\n",
    "# Resultados\n",
    "print(\"LASSO:\")\n",
    "for i, col in enumerate(df_std.iloc[:,:8].columns):\n",
    "    print(f\"{col:10s} | Coef: {lasso.coef_[i]: .4f} | Desvio padrão (bootstrap): {coef_std_lasso[i]: .4f}\")\n"
   ]
  },
  {
   "cell_type": "code",
   "execution_count": null,
   "id": "0ad5cc09",
   "metadata": {},
   "outputs": [],
   "source": []
  }
 ],
 "metadata": {
  "kernelspec": {
   "display_name": "Python 3 (ipykernel)",
   "language": "python",
   "name": "python3"
  },
  "language_info": {
   "codemirror_mode": {
    "name": "ipython",
    "version": 3
   },
   "file_extension": ".py",
   "mimetype": "text/x-python",
   "name": "python",
   "nbconvert_exporter": "python",
   "pygments_lexer": "ipython3",
   "version": "3.8.18"
  }
 },
 "nbformat": 4,
 "nbformat_minor": 5
}
