{
 "cells": [
  {
   "cell_type": "markdown",
   "id": "60d243d3",
   "metadata": {},
   "source": [
    "# COE782- ML - Lista3 - E2"
   ]
  },
  {
   "cell_type": "markdown",
   "id": "f210262e",
   "metadata": {},
   "source": [
    "## Dados câncer próstata\n",
    "Resolução dos itens a),b),c),d) e f)\n",
    "\n",
    "Aluno: Vivian de Carvalho Rodrigues\n",
    "\n",
    "DRE:125228569 "
   ]
  },
  {
   "cell_type": "code",
   "execution_count": 1,
   "id": "29ddc40d",
   "metadata": {},
   "outputs": [],
   "source": [
    "#Importando as bibliotecas \n",
    "import pandas as pd\n",
    "from sklearn.model_selection import train_test_split\n",
    "from sklearn.preprocessing import StandardScaler \n",
    "from sklearn.linear_model import LinearRegression, Ridge, Lasso , SGDRegressor, HuberRegressor \n",
    "import seaborn as sn\n",
    "import numpy as np\n",
    "import matplotlib.pyplot as plt\n",
    "import statsmodels.formula.api as sm\n",
    "from sklearn.metrics import r2_score, mean_squared_error\n",
    "\n",
    "#importa os dados do arquivo .csv na mesma pasta deste arquivo\n",
    "df = pd.read_csv('dados_prostata.csv', sep ='\\s+')"
   ]
  },
  {
   "cell_type": "code",
   "execution_count": 2,
   "id": "dc5a0ff5",
   "metadata": {},
   "outputs": [
    {
     "data": {
      "text/plain": [
       "97"
      ]
     },
     "execution_count": 2,
     "metadata": {},
     "output_type": "execute_result"
    }
   ],
   "source": [
    "#Verificação da quantidade total de linhas\n",
    "df.shape[0]"
   ]
  },
  {
   "cell_type": "code",
   "execution_count": 3,
   "id": "d5110f24",
   "metadata": {},
   "outputs": [
    {
     "data": {
      "text/html": [
       "<div>\n",
       "<style scoped>\n",
       "    .dataframe tbody tr th:only-of-type {\n",
       "        vertical-align: middle;\n",
       "    }\n",
       "\n",
       "    .dataframe tbody tr th {\n",
       "        vertical-align: top;\n",
       "    }\n",
       "\n",
       "    .dataframe thead th {\n",
       "        text-align: right;\n",
       "    }\n",
       "</style>\n",
       "<table border=\"1\" class=\"dataframe\">\n",
       "  <thead>\n",
       "    <tr style=\"text-align: right;\">\n",
       "      <th></th>\n",
       "      <th>lcavol</th>\n",
       "      <th>lweight</th>\n",
       "      <th>age</th>\n",
       "      <th>lbph</th>\n",
       "      <th>svi</th>\n",
       "      <th>lcp</th>\n",
       "      <th>gleason</th>\n",
       "      <th>pgg45</th>\n",
       "      <th>lpsa</th>\n",
       "      <th>train</th>\n",
       "    </tr>\n",
       "  </thead>\n",
       "  <tbody>\n",
       "    <tr>\n",
       "      <th>0</th>\n",
       "      <td>-0.579818</td>\n",
       "      <td>2.769459</td>\n",
       "      <td>50</td>\n",
       "      <td>-1.386294</td>\n",
       "      <td>0</td>\n",
       "      <td>-1.386294</td>\n",
       "      <td>6</td>\n",
       "      <td>0</td>\n",
       "      <td>-0.430783</td>\n",
       "      <td>T</td>\n",
       "    </tr>\n",
       "    <tr>\n",
       "      <th>1</th>\n",
       "      <td>-0.994252</td>\n",
       "      <td>3.319626</td>\n",
       "      <td>58</td>\n",
       "      <td>-1.386294</td>\n",
       "      <td>0</td>\n",
       "      <td>-1.386294</td>\n",
       "      <td>6</td>\n",
       "      <td>0</td>\n",
       "      <td>-0.162519</td>\n",
       "      <td>T</td>\n",
       "    </tr>\n",
       "    <tr>\n",
       "      <th>2</th>\n",
       "      <td>-0.510826</td>\n",
       "      <td>2.691243</td>\n",
       "      <td>74</td>\n",
       "      <td>-1.386294</td>\n",
       "      <td>0</td>\n",
       "      <td>-1.386294</td>\n",
       "      <td>7</td>\n",
       "      <td>20</td>\n",
       "      <td>-0.162519</td>\n",
       "      <td>T</td>\n",
       "    </tr>\n",
       "    <tr>\n",
       "      <th>3</th>\n",
       "      <td>-1.203973</td>\n",
       "      <td>3.282789</td>\n",
       "      <td>58</td>\n",
       "      <td>-1.386294</td>\n",
       "      <td>0</td>\n",
       "      <td>-1.386294</td>\n",
       "      <td>6</td>\n",
       "      <td>0</td>\n",
       "      <td>-0.162519</td>\n",
       "      <td>T</td>\n",
       "    </tr>\n",
       "    <tr>\n",
       "      <th>4</th>\n",
       "      <td>0.751416</td>\n",
       "      <td>3.432373</td>\n",
       "      <td>62</td>\n",
       "      <td>-1.386294</td>\n",
       "      <td>0</td>\n",
       "      <td>-1.386294</td>\n",
       "      <td>6</td>\n",
       "      <td>0</td>\n",
       "      <td>0.371564</td>\n",
       "      <td>T</td>\n",
       "    </tr>\n",
       "  </tbody>\n",
       "</table>\n",
       "</div>"
      ],
      "text/plain": [
       "     lcavol   lweight  age      lbph  svi       lcp  gleason  pgg45      lpsa  \\\n",
       "0 -0.579818  2.769459   50 -1.386294    0 -1.386294        6      0 -0.430783   \n",
       "1 -0.994252  3.319626   58 -1.386294    0 -1.386294        6      0 -0.162519   \n",
       "2 -0.510826  2.691243   74 -1.386294    0 -1.386294        7     20 -0.162519   \n",
       "3 -1.203973  3.282789   58 -1.386294    0 -1.386294        6      0 -0.162519   \n",
       "4  0.751416  3.432373   62 -1.386294    0 -1.386294        6      0  0.371564   \n",
       "\n",
       "  train  \n",
       "0     T  \n",
       "1     T  \n",
       "2     T  \n",
       "3     T  \n",
       "4     T  "
      ]
     },
     "execution_count": 3,
     "metadata": {},
     "output_type": "execute_result"
    }
   ],
   "source": [
    "df.index = np.arange(df.shape[0])                  #para garantir que os registros variem em 0 até N-1. (N = df.shape[0])\n",
    "df.head()"
   ]
  },
  {
   "cell_type": "code",
   "execution_count": 4,
   "id": "72e09c65",
   "metadata": {},
   "outputs": [
    {
     "name": "stdout",
     "output_type": "stream",
     "text": [
      "lcavol     0\n",
      "lweight    0\n",
      "age        0\n",
      "lbph       0\n",
      "svi        0\n",
      "lcp        0\n",
      "gleason    0\n",
      "pgg45      0\n",
      "lpsa       0\n",
      "train      0\n",
      "dtype: int64\n"
     ]
    }
   ],
   "source": [
    "#verificação de valores ausentes de cada atributo \n",
    "falt = df.isna().sum()                          \n",
    "print(falt)"
   ]
  },
  {
   "cell_type": "code",
   "execution_count": 5,
   "id": "cf43c753",
   "metadata": {},
   "outputs": [
    {
     "name": "stdout",
     "output_type": "stream",
     "text": [
      "lcavol     0\n",
      "lweight    0\n",
      "age        0\n",
      "lbph       0\n",
      "svi        0\n",
      "lcp        0\n",
      "gleason    0\n",
      "pgg45      0\n",
      "lpsa       0\n",
      "train      0\n",
      "dtype: int64\n"
     ]
    }
   ],
   "source": [
    "#verificação valores faltantes de cada atributo (NaN)\n",
    "falt = df.isnull().sum()                             \n",
    "print(falt)"
   ]
  },
  {
   "cell_type": "code",
   "execution_count": 6,
   "id": "10bc67d6",
   "metadata": {},
   "outputs": [
    {
     "data": {
      "text/plain": [
       "T    67\n",
       "F    30\n",
       "Name: train, dtype: int64"
      ]
     },
     "execution_count": 6,
     "metadata": {},
     "output_type": "execute_result"
    }
   ],
   "source": [
    "#verifica quantidade de dados da coluna específica\n",
    "df['train'].value_counts()"
   ]
  },
  {
   "cell_type": "code",
   "execution_count": 7,
   "id": "eace8bc9",
   "metadata": {},
   "outputs": [
    {
     "data": {
      "text/html": [
       "<div>\n",
       "<style scoped>\n",
       "    .dataframe tbody tr th:only-of-type {\n",
       "        vertical-align: middle;\n",
       "    }\n",
       "\n",
       "    .dataframe tbody tr th {\n",
       "        vertical-align: top;\n",
       "    }\n",
       "\n",
       "    .dataframe thead th {\n",
       "        text-align: right;\n",
       "    }\n",
       "</style>\n",
       "<table border=\"1\" class=\"dataframe\">\n",
       "  <thead>\n",
       "    <tr style=\"text-align: right;\">\n",
       "      <th></th>\n",
       "      <th>lcavol</th>\n",
       "      <th>lweight</th>\n",
       "      <th>age</th>\n",
       "      <th>lbph</th>\n",
       "      <th>svi</th>\n",
       "      <th>lcp</th>\n",
       "      <th>gleason</th>\n",
       "      <th>pgg45</th>\n",
       "      <th>lpsa</th>\n",
       "    </tr>\n",
       "  </thead>\n",
       "  <tbody>\n",
       "    <tr>\n",
       "      <th>count</th>\n",
       "      <td>97.000000</td>\n",
       "      <td>97.000000</td>\n",
       "      <td>97.000000</td>\n",
       "      <td>97.000000</td>\n",
       "      <td>97.000000</td>\n",
       "      <td>97.000000</td>\n",
       "      <td>97.000000</td>\n",
       "      <td>97.000000</td>\n",
       "      <td>97.000000</td>\n",
       "    </tr>\n",
       "    <tr>\n",
       "      <th>mean</th>\n",
       "      <td>1.350010</td>\n",
       "      <td>3.628943</td>\n",
       "      <td>63.865979</td>\n",
       "      <td>0.100356</td>\n",
       "      <td>0.216495</td>\n",
       "      <td>-0.179366</td>\n",
       "      <td>6.752577</td>\n",
       "      <td>24.381443</td>\n",
       "      <td>2.478387</td>\n",
       "    </tr>\n",
       "    <tr>\n",
       "      <th>std</th>\n",
       "      <td>1.178625</td>\n",
       "      <td>0.428411</td>\n",
       "      <td>7.445117</td>\n",
       "      <td>1.450807</td>\n",
       "      <td>0.413995</td>\n",
       "      <td>1.398250</td>\n",
       "      <td>0.722134</td>\n",
       "      <td>28.204035</td>\n",
       "      <td>1.154329</td>\n",
       "    </tr>\n",
       "    <tr>\n",
       "      <th>min</th>\n",
       "      <td>-1.347074</td>\n",
       "      <td>2.374906</td>\n",
       "      <td>41.000000</td>\n",
       "      <td>-1.386294</td>\n",
       "      <td>0.000000</td>\n",
       "      <td>-1.386294</td>\n",
       "      <td>6.000000</td>\n",
       "      <td>0.000000</td>\n",
       "      <td>-0.430783</td>\n",
       "    </tr>\n",
       "    <tr>\n",
       "      <th>25%</th>\n",
       "      <td>0.512824</td>\n",
       "      <td>3.375880</td>\n",
       "      <td>60.000000</td>\n",
       "      <td>-1.386294</td>\n",
       "      <td>0.000000</td>\n",
       "      <td>-1.386294</td>\n",
       "      <td>6.000000</td>\n",
       "      <td>0.000000</td>\n",
       "      <td>1.731656</td>\n",
       "    </tr>\n",
       "    <tr>\n",
       "      <th>50%</th>\n",
       "      <td>1.446919</td>\n",
       "      <td>3.623007</td>\n",
       "      <td>65.000000</td>\n",
       "      <td>0.300105</td>\n",
       "      <td>0.000000</td>\n",
       "      <td>-0.798508</td>\n",
       "      <td>7.000000</td>\n",
       "      <td>15.000000</td>\n",
       "      <td>2.591516</td>\n",
       "    </tr>\n",
       "    <tr>\n",
       "      <th>75%</th>\n",
       "      <td>2.127041</td>\n",
       "      <td>3.876396</td>\n",
       "      <td>68.000000</td>\n",
       "      <td>1.558145</td>\n",
       "      <td>0.000000</td>\n",
       "      <td>1.178655</td>\n",
       "      <td>7.000000</td>\n",
       "      <td>40.000000</td>\n",
       "      <td>3.056357</td>\n",
       "    </tr>\n",
       "    <tr>\n",
       "      <th>max</th>\n",
       "      <td>3.821004</td>\n",
       "      <td>4.780383</td>\n",
       "      <td>79.000000</td>\n",
       "      <td>2.326302</td>\n",
       "      <td>1.000000</td>\n",
       "      <td>2.904165</td>\n",
       "      <td>9.000000</td>\n",
       "      <td>100.000000</td>\n",
       "      <td>5.582932</td>\n",
       "    </tr>\n",
       "  </tbody>\n",
       "</table>\n",
       "</div>"
      ],
      "text/plain": [
       "          lcavol    lweight        age       lbph        svi        lcp  \\\n",
       "count  97.000000  97.000000  97.000000  97.000000  97.000000  97.000000   \n",
       "mean    1.350010   3.628943  63.865979   0.100356   0.216495  -0.179366   \n",
       "std     1.178625   0.428411   7.445117   1.450807   0.413995   1.398250   \n",
       "min    -1.347074   2.374906  41.000000  -1.386294   0.000000  -1.386294   \n",
       "25%     0.512824   3.375880  60.000000  -1.386294   0.000000  -1.386294   \n",
       "50%     1.446919   3.623007  65.000000   0.300105   0.000000  -0.798508   \n",
       "75%     2.127041   3.876396  68.000000   1.558145   0.000000   1.178655   \n",
       "max     3.821004   4.780383  79.000000   2.326302   1.000000   2.904165   \n",
       "\n",
       "         gleason       pgg45       lpsa  \n",
       "count  97.000000   97.000000  97.000000  \n",
       "mean    6.752577   24.381443   2.478387  \n",
       "std     0.722134   28.204035   1.154329  \n",
       "min     6.000000    0.000000  -0.430783  \n",
       "25%     6.000000    0.000000   1.731656  \n",
       "50%     7.000000   15.000000   2.591516  \n",
       "75%     7.000000   40.000000   3.056357  \n",
       "max     9.000000  100.000000   5.582932  "
      ]
     },
     "execution_count": 7,
     "metadata": {},
     "output_type": "execute_result"
    }
   ],
   "source": [
    "#caracterização estatítisca preliminar\n",
    "df.describe()"
   ]
  },
  {
   "cell_type": "code",
   "execution_count": 8,
   "id": "75ffb245",
   "metadata": {},
   "outputs": [
    {
     "name": "stderr",
     "output_type": "stream",
     "text": [
      "C:\\Users\\User\\AppData\\Local\\Temp\\ipykernel_13044\\3620422769.py:2: FutureWarning: The default value of numeric_only in DataFrame.corr is deprecated. In a future version, it will default to False. Select only valid columns or specify the value of numeric_only to silence this warning.\n",
      "  df.corr()\n"
     ]
    },
    {
     "data": {
      "text/html": [
       "<div>\n",
       "<style scoped>\n",
       "    .dataframe tbody tr th:only-of-type {\n",
       "        vertical-align: middle;\n",
       "    }\n",
       "\n",
       "    .dataframe tbody tr th {\n",
       "        vertical-align: top;\n",
       "    }\n",
       "\n",
       "    .dataframe thead th {\n",
       "        text-align: right;\n",
       "    }\n",
       "</style>\n",
       "<table border=\"1\" class=\"dataframe\">\n",
       "  <thead>\n",
       "    <tr style=\"text-align: right;\">\n",
       "      <th></th>\n",
       "      <th>lcavol</th>\n",
       "      <th>lweight</th>\n",
       "      <th>age</th>\n",
       "      <th>lbph</th>\n",
       "      <th>svi</th>\n",
       "      <th>lcp</th>\n",
       "      <th>gleason</th>\n",
       "      <th>pgg45</th>\n",
       "      <th>lpsa</th>\n",
       "    </tr>\n",
       "  </thead>\n",
       "  <tbody>\n",
       "    <tr>\n",
       "      <th>lcavol</th>\n",
       "      <td>1.000000</td>\n",
       "      <td>0.280521</td>\n",
       "      <td>0.225000</td>\n",
       "      <td>0.027350</td>\n",
       "      <td>0.538845</td>\n",
       "      <td>0.675310</td>\n",
       "      <td>0.432417</td>\n",
       "      <td>0.433652</td>\n",
       "      <td>0.734460</td>\n",
       "    </tr>\n",
       "    <tr>\n",
       "      <th>lweight</th>\n",
       "      <td>0.280521</td>\n",
       "      <td>1.000000</td>\n",
       "      <td>0.347969</td>\n",
       "      <td>0.442264</td>\n",
       "      <td>0.155385</td>\n",
       "      <td>0.164537</td>\n",
       "      <td>0.056882</td>\n",
       "      <td>0.107354</td>\n",
       "      <td>0.433319</td>\n",
       "    </tr>\n",
       "    <tr>\n",
       "      <th>age</th>\n",
       "      <td>0.225000</td>\n",
       "      <td>0.347969</td>\n",
       "      <td>1.000000</td>\n",
       "      <td>0.350186</td>\n",
       "      <td>0.117658</td>\n",
       "      <td>0.127668</td>\n",
       "      <td>0.268892</td>\n",
       "      <td>0.276112</td>\n",
       "      <td>0.169593</td>\n",
       "    </tr>\n",
       "    <tr>\n",
       "      <th>lbph</th>\n",
       "      <td>0.027350</td>\n",
       "      <td>0.442264</td>\n",
       "      <td>0.350186</td>\n",
       "      <td>1.000000</td>\n",
       "      <td>-0.085843</td>\n",
       "      <td>-0.006999</td>\n",
       "      <td>0.077820</td>\n",
       "      <td>0.078460</td>\n",
       "      <td>0.179809</td>\n",
       "    </tr>\n",
       "    <tr>\n",
       "      <th>svi</th>\n",
       "      <td>0.538845</td>\n",
       "      <td>0.155385</td>\n",
       "      <td>0.117658</td>\n",
       "      <td>-0.085843</td>\n",
       "      <td>1.000000</td>\n",
       "      <td>0.673111</td>\n",
       "      <td>0.320412</td>\n",
       "      <td>0.457648</td>\n",
       "      <td>0.566218</td>\n",
       "    </tr>\n",
       "    <tr>\n",
       "      <th>lcp</th>\n",
       "      <td>0.675310</td>\n",
       "      <td>0.164537</td>\n",
       "      <td>0.127668</td>\n",
       "      <td>-0.006999</td>\n",
       "      <td>0.673111</td>\n",
       "      <td>1.000000</td>\n",
       "      <td>0.514830</td>\n",
       "      <td>0.631528</td>\n",
       "      <td>0.548813</td>\n",
       "    </tr>\n",
       "    <tr>\n",
       "      <th>gleason</th>\n",
       "      <td>0.432417</td>\n",
       "      <td>0.056882</td>\n",
       "      <td>0.268892</td>\n",
       "      <td>0.077820</td>\n",
       "      <td>0.320412</td>\n",
       "      <td>0.514830</td>\n",
       "      <td>1.000000</td>\n",
       "      <td>0.751905</td>\n",
       "      <td>0.368987</td>\n",
       "    </tr>\n",
       "    <tr>\n",
       "      <th>pgg45</th>\n",
       "      <td>0.433652</td>\n",
       "      <td>0.107354</td>\n",
       "      <td>0.276112</td>\n",
       "      <td>0.078460</td>\n",
       "      <td>0.457648</td>\n",
       "      <td>0.631528</td>\n",
       "      <td>0.751905</td>\n",
       "      <td>1.000000</td>\n",
       "      <td>0.422316</td>\n",
       "    </tr>\n",
       "    <tr>\n",
       "      <th>lpsa</th>\n",
       "      <td>0.734460</td>\n",
       "      <td>0.433319</td>\n",
       "      <td>0.169593</td>\n",
       "      <td>0.179809</td>\n",
       "      <td>0.566218</td>\n",
       "      <td>0.548813</td>\n",
       "      <td>0.368987</td>\n",
       "      <td>0.422316</td>\n",
       "      <td>1.000000</td>\n",
       "    </tr>\n",
       "  </tbody>\n",
       "</table>\n",
       "</div>"
      ],
      "text/plain": [
       "           lcavol   lweight       age      lbph       svi       lcp   gleason  \\\n",
       "lcavol   1.000000  0.280521  0.225000  0.027350  0.538845  0.675310  0.432417   \n",
       "lweight  0.280521  1.000000  0.347969  0.442264  0.155385  0.164537  0.056882   \n",
       "age      0.225000  0.347969  1.000000  0.350186  0.117658  0.127668  0.268892   \n",
       "lbph     0.027350  0.442264  0.350186  1.000000 -0.085843 -0.006999  0.077820   \n",
       "svi      0.538845  0.155385  0.117658 -0.085843  1.000000  0.673111  0.320412   \n",
       "lcp      0.675310  0.164537  0.127668 -0.006999  0.673111  1.000000  0.514830   \n",
       "gleason  0.432417  0.056882  0.268892  0.077820  0.320412  0.514830  1.000000   \n",
       "pgg45    0.433652  0.107354  0.276112  0.078460  0.457648  0.631528  0.751905   \n",
       "lpsa     0.734460  0.433319  0.169593  0.179809  0.566218  0.548813  0.368987   \n",
       "\n",
       "            pgg45      lpsa  \n",
       "lcavol   0.433652  0.734460  \n",
       "lweight  0.107354  0.433319  \n",
       "age      0.276112  0.169593  \n",
       "lbph     0.078460  0.179809  \n",
       "svi      0.457648  0.566218  \n",
       "lcp      0.631528  0.548813  \n",
       "gleason  0.751905  0.368987  \n",
       "pgg45    1.000000  0.422316  \n",
       "lpsa     0.422316  1.000000  "
      ]
     },
     "execution_count": 8,
     "metadata": {},
     "output_type": "execute_result"
    }
   ],
   "source": [
    "#matrix_correlacao\n",
    "df.corr()"
   ]
  },
  {
   "cell_type": "code",
   "execution_count": 9,
   "id": "7e495787",
   "metadata": {},
   "outputs": [
    {
     "name": "stderr",
     "output_type": "stream",
     "text": [
      "C:\\Users\\User\\AppData\\Local\\Temp\\ipykernel_13044\\417344172.py:2: FutureWarning: The default value of numeric_only in DataFrame.corr is deprecated. In a future version, it will default to False. Select only valid columns or specify the value of numeric_only to silence this warning.\n",
      "  plot = sn.heatmap(df.corr(), annot = True,fmt=\".1f\",cmap = 'coolwarm')\n"
     ]
    },
    {
     "data": {
      "image/png": "[encoded data removed]",
      "text/plain": [
       "<Figure size 640x480 with 2 Axes>"
      ]
     },
     "metadata": {},
     "output_type": "display_data"
    }
   ],
   "source": [
    "#matriz de correlação - dados não padronizados\n",
    "plot = sn.heatmap(df.corr(), annot = True,fmt=\".1f\",cmap = 'coolwarm')\n",
    "plot\n",
    "plt.show()"
   ]
  },
  {
   "cell_type": "code",
   "execution_count": 10,
   "id": "31b4c56f",
   "metadata": {},
   "outputs": [
    {
     "data": {
      "text/plain": [
       "array([[-5.79818495e-01,  2.76945900e+00,  5.00000000e+01,\n",
       "        -1.38629436e+00,  0.00000000e+00, -1.38629436e+00,\n",
       "         6.00000000e+00,  0.00000000e+00],\n",
       "       [-9.94252273e-01,  3.31962600e+00,  5.80000000e+01,\n",
       "        -1.38629436e+00,  0.00000000e+00, -1.38629436e+00,\n",
       "         6.00000000e+00,  0.00000000e+00],\n",
       "       [-5.10825624e-01,  2.69124300e+00,  7.40000000e+01,\n",
       "        -1.38629436e+00,  0.00000000e+00, -1.38629436e+00,\n",
       "         7.00000000e+00,  2.00000000e+01],\n",
       "       [-1.20397280e+00,  3.28278900e+00,  5.80000000e+01,\n",
       "        -1.38629436e+00,  0.00000000e+00, -1.38629436e+00,\n",
       "         6.00000000e+00,  0.00000000e+00],\n",
       "       [ 7.51416089e-01,  3.43237300e+00,  6.20000000e+01,\n",
       "        -1.38629436e+00,  0.00000000e+00, -1.38629436e+00,\n",
       "         6.00000000e+00,  0.00000000e+00],\n",
       "       [-1.04982212e+00,  3.22882600e+00,  5.00000000e+01,\n",
       "        -1.38629436e+00,  0.00000000e+00, -1.38629436e+00,\n",
       "         6.00000000e+00,  0.00000000e+00],\n",
       "       [ 7.37164066e-01,  3.47351800e+00,  6.40000000e+01,\n",
       "         6.15185640e-01,  0.00000000e+00, -1.38629436e+00,\n",
       "         6.00000000e+00,  0.00000000e+00],\n",
       "       [ 6.93147181e-01,  3.53950900e+00,  5.80000000e+01,\n",
       "         1.53686722e+00,  0.00000000e+00, -1.38629436e+00,\n",
       "         6.00000000e+00,  0.00000000e+00],\n",
       "       [-7.76528789e-01,  3.53950900e+00,  4.70000000e+01,\n",
       "        -1.38629436e+00,  0.00000000e+00, -1.38629436e+00,\n",
       "         6.00000000e+00,  0.00000000e+00],\n",
       "       [ 2.23143551e-01,  3.24454400e+00,  6.30000000e+01,\n",
       "        -1.38629436e+00,  0.00000000e+00, -1.38629436e+00,\n",
       "         6.00000000e+00,  0.00000000e+00],\n",
       "       [ 2.54642218e-01,  3.60413800e+00,  6.50000000e+01,\n",
       "        -1.38629436e+00,  0.00000000e+00, -1.38629436e+00,\n",
       "         6.00000000e+00,  0.00000000e+00],\n",
       "       [-1.34707365e+00,  3.59868100e+00,  6.30000000e+01,\n",
       "         1.26694760e+00,  0.00000000e+00, -1.38629436e+00,\n",
       "         6.00000000e+00,  0.00000000e+00],\n",
       "       [ 1.61342993e+00,  3.02286100e+00,  6.30000000e+01,\n",
       "        -1.38629436e+00,  0.00000000e+00, -5.97837000e-01,\n",
       "         7.00000000e+00,  3.00000000e+01],\n",
       "       [ 1.47704872e+00,  2.99822900e+00,  6.70000000e+01,\n",
       "        -1.38629436e+00,  0.00000000e+00, -1.38629436e+00,\n",
       "         7.00000000e+00,  5.00000000e+00],\n",
       "       [ 1.20597081e+00,  3.44201900e+00,  5.70000000e+01,\n",
       "        -1.38629436e+00,  0.00000000e+00, -4.30782920e-01,\n",
       "         7.00000000e+00,  5.00000000e+00],\n",
       "       [ 1.54115907e+00,  3.06105200e+00,  6.60000000e+01,\n",
       "        -1.38629436e+00,  0.00000000e+00, -1.38629436e+00,\n",
       "         6.00000000e+00,  0.00000000e+00],\n",
       "       [-4.15515444e-01,  3.51601300e+00,  7.00000000e+01,\n",
       "         1.24415459e+00,  0.00000000e+00, -5.97837000e-01,\n",
       "         7.00000000e+00,  3.00000000e+01],\n",
       "       [ 2.28848617e+00,  3.64935900e+00,  6.60000000e+01,\n",
       "        -1.38629436e+00,  0.00000000e+00,  3.71563560e-01,\n",
       "         6.00000000e+00,  0.00000000e+00],\n",
       "       [-5.62118918e-01,  3.26766600e+00,  4.10000000e+01,\n",
       "        -1.38629436e+00,  0.00000000e+00, -1.38629436e+00,\n",
       "         6.00000000e+00,  0.00000000e+00],\n",
       "       [ 1.82321557e-01,  3.82537500e+00,  7.00000000e+01,\n",
       "         1.65822808e+00,  0.00000000e+00, -1.38629436e+00,\n",
       "         6.00000000e+00,  0.00000000e+00],\n",
       "       [ 1.14740245e+00,  3.41936500e+00,  5.90000000e+01,\n",
       "        -1.38629436e+00,  0.00000000e+00, -1.38629436e+00,\n",
       "         6.00000000e+00,  0.00000000e+00],\n",
       "       [ 2.05923883e+00,  3.50104300e+00,  6.00000000e+01,\n",
       "         1.47476301e+00,  0.00000000e+00,  1.34807315e+00,\n",
       "         7.00000000e+00,  2.00000000e+01],\n",
       "       [-5.44727175e-01,  3.37588000e+00,  5.90000000e+01,\n",
       "        -7.98507700e-01,  0.00000000e+00, -1.38629436e+00,\n",
       "         6.00000000e+00,  0.00000000e+00],\n",
       "       [ 1.78170913e+00,  3.45157400e+00,  6.30000000e+01,\n",
       "         4.38254930e-01,  0.00000000e+00,  1.17865500e+00,\n",
       "         7.00000000e+00,  6.00000000e+01],\n",
       "       [ 3.85262401e-01,  3.66740000e+00,  6.90000000e+01,\n",
       "         1.59938758e+00,  0.00000000e+00, -1.38629436e+00,\n",
       "         6.00000000e+00,  0.00000000e+00],\n",
       "       [ 1.44691898e+00,  3.12456500e+00,  6.80000000e+01,\n",
       "         3.00104590e-01,  0.00000000e+00, -1.38629436e+00,\n",
       "         6.00000000e+00,  0.00000000e+00],\n",
       "       [ 5.12823626e-01,  3.71965100e+00,  6.50000000e+01,\n",
       "        -1.38629436e+00,  0.00000000e+00, -7.98507700e-01,\n",
       "         7.00000000e+00,  7.00000000e+01],\n",
       "       [-4.00477567e-01,  3.86597900e+00,  6.70000000e+01,\n",
       "         1.81645208e+00,  0.00000000e+00, -1.38629436e+00,\n",
       "         7.00000000e+00,  2.00000000e+01],\n",
       "       [ 1.04027671e+00,  3.12895100e+00,  6.70000000e+01,\n",
       "         2.23143550e-01,  0.00000000e+00,  4.87901600e-02,\n",
       "         7.00000000e+00,  8.00000000e+01],\n",
       "       [ 2.40964417e+00,  3.37588000e+00,  6.50000000e+01,\n",
       "        -1.38629436e+00,  0.00000000e+00,  1.61938824e+00,\n",
       "         6.00000000e+00,  0.00000000e+00],\n",
       "       [ 2.85178942e-01,  4.09016900e+00,  6.50000000e+01,\n",
       "         1.96290773e+00,  0.00000000e+00, -7.98507700e-01,\n",
       "         6.00000000e+00,  0.00000000e+00],\n",
       "       [ 1.82321557e-01,  3.80443800e+00,  6.50000000e+01,\n",
       "         1.70474809e+00,  0.00000000e+00, -1.38629436e+00,\n",
       "         6.00000000e+00,  0.00000000e+00],\n",
       "       [ 1.27536280e+00,  3.03735400e+00,  7.10000000e+01,\n",
       "         1.26694760e+00,  0.00000000e+00, -1.38629436e+00,\n",
       "         6.00000000e+00,  0.00000000e+00],\n",
       "       [ 9.95033100e-03,  3.26766600e+00,  5.40000000e+01,\n",
       "        -1.38629436e+00,  0.00000000e+00, -1.38629436e+00,\n",
       "         6.00000000e+00,  0.00000000e+00],\n",
       "       [-1.00503360e-02,  3.21687400e+00,  6.30000000e+01,\n",
       "        -1.38629436e+00,  0.00000000e+00, -7.98507700e-01,\n",
       "         6.00000000e+00,  0.00000000e+00],\n",
       "       [ 1.30833282e+00,  4.11985000e+00,  6.40000000e+01,\n",
       "         2.17133681e+00,  0.00000000e+00, -1.38629436e+00,\n",
       "         7.00000000e+00,  5.00000000e+00],\n",
       "       [ 1.42310833e+00,  3.65713100e+00,  7.30000000e+01,\n",
       "        -5.79818500e-01,  0.00000000e+00,  1.65822808e+00,\n",
       "         8.00000000e+00,  1.50000000e+01],\n",
       "       [ 4.57424847e-01,  2.37490600e+00,  6.40000000e+01,\n",
       "        -1.38629436e+00,  0.00000000e+00, -1.38629436e+00,\n",
       "         7.00000000e+00,  1.50000000e+01],\n",
       "       [ 2.66095859e+00,  4.08513600e+00,  6.80000000e+01,\n",
       "         1.37371558e+00,  1.00000000e+00,  1.83258146e+00,\n",
       "         7.00000000e+00,  3.50000000e+01],\n",
       "       [ 7.97507196e-01,  3.01308100e+00,  5.60000000e+01,\n",
       "         9.36093360e-01,  0.00000000e+00, -1.62518930e-01,\n",
       "         7.00000000e+00,  5.00000000e+00],\n",
       "       [ 6.20576488e-01,  3.14199500e+00,  6.00000000e+01,\n",
       "        -1.38629436e+00,  0.00000000e+00, -1.38629436e+00,\n",
       "         9.00000000e+00,  8.00000000e+01],\n",
       "       [ 1.44220199e+00,  3.68261000e+00,  6.80000000e+01,\n",
       "        -1.38629436e+00,  0.00000000e+00, -1.38629436e+00,\n",
       "         7.00000000e+00,  1.00000000e+01],\n",
       "       [ 5.82215620e-01,  3.86597900e+00,  6.20000000e+01,\n",
       "         1.71379793e+00,  0.00000000e+00, -4.30782920e-01,\n",
       "         6.00000000e+00,  0.00000000e+00],\n",
       "       [ 1.77155676e+00,  3.89690900e+00,  6.10000000e+01,\n",
       "        -1.38629436e+00,  0.00000000e+00,  8.10930220e-01,\n",
       "         7.00000000e+00,  6.00000000e+00],\n",
       "       [ 1.48613970e+00,  3.40949600e+00,  6.60000000e+01,\n",
       "         1.74919985e+00,  0.00000000e+00, -4.30782920e-01,\n",
       "         7.00000000e+00,  2.00000000e+01],\n",
       "       [ 1.66392610e+00,  3.39282900e+00,  6.10000000e+01,\n",
       "         6.15185640e-01,  0.00000000e+00, -1.38629436e+00,\n",
       "         7.00000000e+00,  1.50000000e+01],\n",
       "       [ 2.72785283e+00,  3.99544500e+00,  7.90000000e+01,\n",
       "         1.87946505e+00,  1.00000000e+00,  2.65675691e+00,\n",
       "         9.00000000e+00,  1.00000000e+02],\n",
       "       [ 1.16315081e+00,  4.03512500e+00,  6.80000000e+01,\n",
       "         1.71379793e+00,  0.00000000e+00, -4.30782920e-01,\n",
       "         7.00000000e+00,  4.00000000e+01],\n",
       "       [ 1.74571553e+00,  3.49802200e+00,  4.30000000e+01,\n",
       "        -1.38629436e+00,  0.00000000e+00, -1.38629436e+00,\n",
       "         6.00000000e+00,  0.00000000e+00],\n",
       "       [ 1.22082992e+00,  3.56812300e+00,  7.00000000e+01,\n",
       "         1.37371558e+00,  0.00000000e+00, -7.98507700e-01,\n",
       "         6.00000000e+00,  0.00000000e+00],\n",
       "       [ 1.09192330e+00,  3.99360300e+00,  6.80000000e+01,\n",
       "        -1.38629436e+00,  0.00000000e+00, -1.38629436e+00,\n",
       "         7.00000000e+00,  5.00000000e+01],\n",
       "       [ 1.66013103e+00,  4.23483100e+00,  6.40000000e+01,\n",
       "         2.07317193e+00,  0.00000000e+00, -1.38629436e+00,\n",
       "         6.00000000e+00,  0.00000000e+00],\n",
       "       [ 5.12823626e-01,  3.63363100e+00,  6.40000000e+01,\n",
       "         1.49290410e+00,  0.00000000e+00,  4.87901600e-02,\n",
       "         7.00000000e+00,  7.00000000e+01],\n",
       "       [ 2.12704052e+00,  4.12147300e+00,  6.80000000e+01,\n",
       "         1.76644166e+00,  0.00000000e+00,  1.44691898e+00,\n",
       "         7.00000000e+00,  4.00000000e+01],\n",
       "       [ 3.15359036e+00,  3.51601300e+00,  5.90000000e+01,\n",
       "        -1.38629436e+00,  0.00000000e+00, -1.38629436e+00,\n",
       "         7.00000000e+00,  5.00000000e+00],\n",
       "       [ 1.26694760e+00,  4.28013200e+00,  6.60000000e+01,\n",
       "         2.12226154e+00,  0.00000000e+00, -1.38629436e+00,\n",
       "         7.00000000e+00,  1.50000000e+01],\n",
       "       [ 9.74559640e-01,  2.86505400e+00,  4.70000000e+01,\n",
       "        -1.38629436e+00,  0.00000000e+00,  5.00775290e-01,\n",
       "         7.00000000e+00,  4.00000000e+00],\n",
       "       [ 4.63734016e-01,  3.76468200e+00,  4.90000000e+01,\n",
       "         1.42310833e+00,  0.00000000e+00, -1.38629436e+00,\n",
       "         6.00000000e+00,  0.00000000e+00],\n",
       "       [ 5.42324291e-01,  4.17822600e+00,  7.00000000e+01,\n",
       "         4.38254930e-01,  0.00000000e+00, -1.38629436e+00,\n",
       "         7.00000000e+00,  2.00000000e+01],\n",
       "       [ 1.06125650e+00,  3.85121100e+00,  6.10000000e+01,\n",
       "         1.29472717e+00,  0.00000000e+00, -1.38629436e+00,\n",
       "         7.00000000e+00,  4.00000000e+01],\n",
       "       [ 4.57424847e-01,  4.52450200e+00,  7.30000000e+01,\n",
       "         2.32630162e+00,  0.00000000e+00, -1.38629436e+00,\n",
       "         6.00000000e+00,  0.00000000e+00],\n",
       "       [ 1.99741771e+00,  3.71965100e+00,  6.30000000e+01,\n",
       "         1.61938824e+00,  1.00000000e+00,  1.90954250e+00,\n",
       "         7.00000000e+00,  4.00000000e+01],\n",
       "       [ 2.77570885e+00,  3.52488900e+00,  7.20000000e+01,\n",
       "        -1.38629436e+00,  0.00000000e+00,  1.55814462e+00,\n",
       "         9.00000000e+00,  9.50000000e+01],\n",
       "       [ 2.03470565e+00,  3.91701100e+00,  6.60000000e+01,\n",
       "         2.00821403e+00,  1.00000000e+00,  2.11021320e+00,\n",
       "         7.00000000e+00,  6.00000000e+01],\n",
       "       [ 2.07317193e+00,  3.62300700e+00,  6.40000000e+01,\n",
       "        -1.38629436e+00,  0.00000000e+00, -1.38629436e+00,\n",
       "         6.00000000e+00,  0.00000000e+00],\n",
       "       [ 1.45861502e+00,  3.83622100e+00,  6.10000000e+01,\n",
       "         1.32175584e+00,  0.00000000e+00, -4.30782920e-01,\n",
       "         7.00000000e+00,  2.00000000e+01],\n",
       "       [ 2.02287119e+00,  3.87846600e+00,  6.80000000e+01,\n",
       "         1.78339122e+00,  0.00000000e+00,  1.32175584e+00,\n",
       "         7.00000000e+00,  7.00000000e+01],\n",
       "       [ 2.19833507e+00,  4.05091500e+00,  7.20000000e+01,\n",
       "         2.30757263e+00,  0.00000000e+00, -4.30782920e-01,\n",
       "         7.00000000e+00,  1.00000000e+01],\n",
       "       [-4.46287103e-01,  4.40854700e+00,  6.90000000e+01,\n",
       "        -1.38629436e+00,  0.00000000e+00, -1.38629436e+00,\n",
       "         6.00000000e+00,  0.00000000e+00],\n",
       "       [ 1.19392247e+00,  4.78038300e+00,  7.20000000e+01,\n",
       "         2.32630162e+00,  0.00000000e+00, -7.98507700e-01,\n",
       "         7.00000000e+00,  5.00000000e+00],\n",
       "       [ 1.86408013e+00,  3.59319400e+00,  6.00000000e+01,\n",
       "        -1.38629436e+00,  1.00000000e+00,  1.32175584e+00,\n",
       "         7.00000000e+00,  6.00000000e+01],\n",
       "       [ 1.16002092e+00,  3.34109300e+00,  7.70000000e+01,\n",
       "         1.74919985e+00,  0.00000000e+00, -1.38629436e+00,\n",
       "         7.00000000e+00,  2.50000000e+01],\n",
       "       [ 1.21491274e+00,  3.82537500e+00,  6.90000000e+01,\n",
       "        -1.38629436e+00,  1.00000000e+00,  2.23143550e-01,\n",
       "         7.00000000e+00,  2.00000000e+01],\n",
       "       [ 1.83896107e+00,  3.23671600e+00,  6.00000000e+01,\n",
       "         4.38254930e-01,  1.00000000e+00,  1.17865500e+00,\n",
       "         9.00000000e+00,  9.00000000e+01],\n",
       "       [ 2.99922616e+00,  3.84908300e+00,  6.90000000e+01,\n",
       "        -1.38629436e+00,  1.00000000e+00,  1.90954250e+00,\n",
       "         7.00000000e+00,  2.00000000e+01],\n",
       "       [ 3.14113048e+00,  3.26384900e+00,  6.80000000e+01,\n",
       "        -5.12932900e-02,  1.00000000e+00,  2.42036813e+00,\n",
       "         7.00000000e+00,  5.00000000e+01],\n",
       "       [ 2.01089500e+00,  4.43378900e+00,  7.20000000e+01,\n",
       "         2.12226154e+00,  0.00000000e+00,  5.00775290e-01,\n",
       "         7.00000000e+00,  6.00000000e+01],\n",
       "       [ 2.53765721e+00,  4.35478400e+00,  7.80000000e+01,\n",
       "         2.32630162e+00,  0.00000000e+00, -1.38629436e+00,\n",
       "         7.00000000e+00,  1.00000000e+01],\n",
       "       [ 2.64830020e+00,  3.58212900e+00,  6.90000000e+01,\n",
       "        -1.38629436e+00,  1.00000000e+00,  2.58399755e+00,\n",
       "         7.00000000e+00,  7.00000000e+01],\n",
       "       [ 2.77944020e+00,  3.82319200e+00,  6.30000000e+01,\n",
       "        -1.38629436e+00,  0.00000000e+00,  3.71563560e-01,\n",
       "         7.00000000e+00,  5.00000000e+01],\n",
       "       [ 1.46787435e+00,  3.07037600e+00,  6.60000000e+01,\n",
       "         5.59615790e-01,  0.00000000e+00,  2.23143550e-01,\n",
       "         7.00000000e+00,  4.00000000e+01],\n",
       "       [ 2.51365606e+00,  3.47351800e+00,  5.70000000e+01,\n",
       "         4.38254930e-01,  0.00000000e+00,  2.32727771e+00,\n",
       "         7.00000000e+00,  6.00000000e+01],\n",
       "       [ 2.61300665e+00,  3.88875400e+00,  7.70000000e+01,\n",
       "        -5.27632740e-01,  1.00000000e+00,  5.59615790e-01,\n",
       "         7.00000000e+00,  3.00000000e+01],\n",
       "       [ 2.67759099e+00,  3.83837600e+00,  6.50000000e+01,\n",
       "         1.11514159e+00,  0.00000000e+00,  1.74919985e+00,\n",
       "         9.00000000e+00,  7.00000000e+01],\n",
       "       [ 1.56234630e+00,  3.70990700e+00,  6.00000000e+01,\n",
       "         1.69561561e+00,  0.00000000e+00,  8.10930220e-01,\n",
       "         7.00000000e+00,  3.00000000e+01],\n",
       "       [ 3.30284926e+00,  3.51898000e+00,  6.40000000e+01,\n",
       "        -1.38629436e+00,  1.00000000e+00,  2.32727771e+00,\n",
       "         7.00000000e+00,  6.00000000e+01],\n",
       "       [ 2.02419307e+00,  3.73169900e+00,  5.80000000e+01,\n",
       "         1.63899671e+00,  0.00000000e+00, -1.38629436e+00,\n",
       "         6.00000000e+00,  0.00000000e+00],\n",
       "       [ 1.73165554e+00,  3.36901800e+00,  6.20000000e+01,\n",
       "        -1.38629436e+00,  1.00000000e+00,  3.00104590e-01,\n",
       "         7.00000000e+00,  3.00000000e+01],\n",
       "       [ 2.80759383e+00,  4.71805200e+00,  6.50000000e+01,\n",
       "        -1.38629436e+00,  1.00000000e+00,  2.46385324e+00,\n",
       "         7.00000000e+00,  6.00000000e+01],\n",
       "       [ 1.56234630e+00,  3.69511000e+00,  7.60000000e+01,\n",
       "         9.36093360e-01,  1.00000000e+00,  8.10930220e-01,\n",
       "         7.00000000e+00,  7.50000000e+01],\n",
       "       [ 3.24649099e+00,  4.10181700e+00,  6.80000000e+01,\n",
       "        -1.38629436e+00,  0.00000000e+00, -1.38629436e+00,\n",
       "         6.00000000e+00,  0.00000000e+00],\n",
       "       [ 2.53290285e+00,  3.67756600e+00,  6.10000000e+01,\n",
       "         1.34807315e+00,  1.00000000e+00, -1.38629436e+00,\n",
       "         7.00000000e+00,  1.50000000e+01],\n",
       "       [ 2.83026783e+00,  3.87639600e+00,  6.80000000e+01,\n",
       "        -1.38629436e+00,  1.00000000e+00,  1.32175584e+00,\n",
       "         7.00000000e+00,  6.00000000e+01],\n",
       "       [ 3.82100361e+00,  3.89690900e+00,  4.40000000e+01,\n",
       "        -1.38629436e+00,  1.00000000e+00,  2.16905370e+00,\n",
       "         7.00000000e+00,  4.00000000e+01],\n",
       "       [ 2.90744736e+00,  3.39618500e+00,  5.20000000e+01,\n",
       "        -1.38629436e+00,  1.00000000e+00,  2.46385324e+00,\n",
       "         7.00000000e+00,  1.00000000e+01],\n",
       "       [ 2.88256357e+00,  3.77391000e+00,  6.80000000e+01,\n",
       "         1.55814462e+00,  1.00000000e+00,  1.55814462e+00,\n",
       "         7.00000000e+00,  8.00000000e+01],\n",
       "       [ 3.47196645e+00,  3.97499800e+00,  6.80000000e+01,\n",
       "         4.38254930e-01,  1.00000000e+00,  2.90416508e+00,\n",
       "         7.00000000e+00,  2.00000000e+01]])"
      ]
     },
     "execution_count": 10,
     "metadata": {},
     "output_type": "execute_result"
    }
   ],
   "source": [
    "#dados numéricos para padronização (desconsiderou-se as colunas de indices, \"Train\" e  \"lpsa\")\n",
    "#Considera-se somente os dados de entrada \n",
    "data = df.iloc[:,:8].to_numpy()\n",
    "data"
   ]
  },
  {
   "cell_type": "code",
   "execution_count": 11,
   "id": "5fdc153f",
   "metadata": {},
   "outputs": [],
   "source": [
    "#criando as variáveis em tipo array para que sejam padronizados\n",
    "lcavol = df['lcavol']                    #volume do cancer (tumor)\n",
    "lweight = df['lweight']                  #log do peso da prostata\n",
    "age = df['age']                          #idade\n",
    "lbph = df['lbph']                        #log de hoperplasia benigna\n",
    "svi = df['svi']                          #vesicula seminal\n",
    "lcp = df['lcp']                          #capsula prostatica \n",
    "gleason = df['gleason']                  #critério gleason\n",
    "pgg45 = df['pgg45']                      #porcetagem gleason\n",
    "lpsa = df['lpsa']                        #antígeno específico - target"
   ]
  },
  {
   "cell_type": "code",
   "execution_count": 12,
   "id": "3017e8ea",
   "metadata": {},
   "outputs": [
    {
     "data": {
      "text/plain": [
       "(97, 8)"
      ]
     },
     "execution_count": 12,
     "metadata": {},
     "output_type": "execute_result"
    }
   ],
   "source": [
    "data.shape"
   ]
  },
  {
   "cell_type": "code",
   "execution_count": 13,
   "id": "c372bbc4",
   "metadata": {},
   "outputs": [
    {
     "data": {
      "text/html": [
       "<style>#sk-container-id-1 {color: black;background-color: white;}#sk-container-id-1 pre{padding: 0;}#sk-container-id-1 div.sk-toggleable {background-color: white;}#sk-container-id-1 label.sk-toggleable__label {cursor: pointer;display: block;width: 100%;margin-bottom: 0;padding: 0.3em;box-sizing: border-box;text-align: center;}#sk-container-id-1 label.sk-toggleable__label-arrow:before {content: \"▸\";float: left;margin-right: 0.25em;color: #696969;}#sk-container-id-1 label.sk-toggleable__label-arrow:hover:before {color: black;}#sk-container-id-1 div.sk-estimator:hover label.sk-toggleable__label-arrow:before {color: black;}#sk-container-id-1 div.sk-toggleable__content {max-height: 0;max-width: 0;overflow: hidden;text-align: left;background-color: #f0f8ff;}#sk-container-id-1 div.sk-toggleable__content pre {margin: 0.2em;color: black;border-radius: 0.25em;background-color: #f0f8ff;}#sk-container-id-1 input.sk-toggleable__control:checked~div.sk-toggleable__content {max-height: 200px;max-width: 100%;overflow: auto;}#sk-container-id-1 input.sk-toggleable__control:checked~label.sk-toggleable__label-arrow:before {content: \"▾\";}#sk-container-id-1 div.sk-estimator input.sk-toggleable__control:checked~label.sk-toggleable__label {background-color: #d4ebff;}#sk-container-id-1 div.sk-label input.sk-toggleable__control:checked~label.sk-toggleable__label {background-color: #d4ebff;}#sk-container-id-1 input.sk-hidden--visually {border: 0;clip: rect(1px 1px 1px 1px);clip: rect(1px, 1px, 1px, 1px);height: 1px;margin: -1px;overflow: hidden;padding: 0;position: absolute;width: 1px;}#sk-container-id-1 div.sk-estimator {font-family: monospace;background-color: #f0f8ff;border: 1px dotted black;border-radius: 0.25em;box-sizing: border-box;margin-bottom: 0.5em;}#sk-container-id-1 div.sk-estimator:hover {background-color: #d4ebff;}#sk-container-id-1 div.sk-parallel-item::after {content: \"\";width: 100%;border-bottom: 1px solid gray;flex-grow: 1;}#sk-container-id-1 div.sk-label:hover label.sk-toggleable__label {background-color: #d4ebff;}#sk-container-id-1 div.sk-serial::before {content: \"\";position: absolute;border-left: 1px solid gray;box-sizing: border-box;top: 0;bottom: 0;left: 50%;z-index: 0;}#sk-container-id-1 div.sk-serial {display: flex;flex-direction: column;align-items: center;background-color: white;padding-right: 0.2em;padding-left: 0.2em;position: relative;}#sk-container-id-1 div.sk-item {position: relative;z-index: 1;}#sk-container-id-1 div.sk-parallel {display: flex;align-items: stretch;justify-content: center;background-color: white;position: relative;}#sk-container-id-1 div.sk-item::before, #sk-container-id-1 div.sk-parallel-item::before {content: \"\";position: absolute;border-left: 1px solid gray;box-sizing: border-box;top: 0;bottom: 0;left: 50%;z-index: -1;}#sk-container-id-1 div.sk-parallel-item {display: flex;flex-direction: column;z-index: 1;position: relative;background-color: white;}#sk-container-id-1 div.sk-parallel-item:first-child::after {align-self: flex-end;width: 50%;}#sk-container-id-1 div.sk-parallel-item:last-child::after {align-self: flex-start;width: 50%;}#sk-container-id-1 div.sk-parallel-item:only-child::after {width: 0;}#sk-container-id-1 div.sk-dashed-wrapped {border: 1px dashed gray;margin: 0 0.4em 0.5em 0.4em;box-sizing: border-box;padding-bottom: 0.4em;background-color: white;}#sk-container-id-1 div.sk-label label {font-family: monospace;font-weight: bold;display: inline-block;line-height: 1.2em;}#sk-container-id-1 div.sk-label-container {text-align: center;}#sk-container-id-1 div.sk-container {/* jupyter's `normalize.less` sets `[hidden] { display: none; }` but bootstrap.min.css set `[hidden] { display: none !important; }` so we also need the `!important` here to be able to override the default hidden behavior on the sphinx rendered scikit-learn.org. See: https://github.com/scikit-learn/scikit-learn/issues/21755 */display: inline-block !important;position: relative;}#sk-container-id-1 div.sk-text-repr-fallback {display: none;}</style><div id=\"sk-container-id-1\" class=\"sk-top-container\"><div class=\"sk-text-repr-fallback\"><pre>StandardScaler()</pre><b>In a Jupyter environment, please rerun this cell to show the HTML representation or trust the notebook. <br />On GitHub, the HTML representation is unable to render, please try loading this page with nbviewer.org.</b></div><div class=\"sk-container\" hidden><div class=\"sk-item\"><div class=\"sk-estimator sk-toggleable\"><input class=\"sk-toggleable__control sk-hidden--visually\" id=\"sk-estimator-id-1\" type=\"checkbox\" checked><label for=\"sk-estimator-id-1\" class=\"sk-toggleable__label sk-toggleable__label-arrow\">StandardScaler</label><div class=\"sk-toggleable__content\"><pre>StandardScaler()</pre></div></div></div></div></div>"
      ],
      "text/plain": [
       "StandardScaler()"
      ]
     },
     "execution_count": 13,
     "metadata": {},
     "output_type": "execute_result"
    }
   ],
   "source": [
    "#a)padronização dos dados\n",
    "scaler = StandardScaler()\n",
    "scaler"
   ]
  },
  {
   "cell_type": "code",
   "execution_count": 14,
   "id": "f455406e",
   "metadata": {},
   "outputs": [
    {
     "data": {
      "text/plain": [
       "(97, 8)"
      ]
     },
     "execution_count": 14,
     "metadata": {},
     "output_type": "execute_result"
    }
   ],
   "source": [
    "#Padroniza e verifica a dimensão da matriz\n",
    "datastd = scaler.fit_transform(data)\n",
    "datastd.shape"
   ]
  },
  {
   "cell_type": "code",
   "execution_count": 15,
   "id": "17973ee7",
   "metadata": {},
   "outputs": [
    {
     "data": {
      "text/plain": [
       "array([[-1.64586143, -2.01663373, -1.87210098, -1.03002898, -0.52565748,\n",
       "        -0.86765522, -1.04757113, -0.86895727],\n",
       "       [-1.9993129 , -0.72575948, -0.79198919, -1.03002898, -0.52565748,\n",
       "        -0.86765522, -1.04757113, -0.86895727],\n",
       "       [-1.58702059, -2.20015441,  1.36823439, -1.03002898, -0.52565748,\n",
       "        -0.86765522,  0.34440695, -0.15615511],\n",
       "       [-2.17817387, -0.8121913 , -0.79198919, -1.03002898, -0.52565748,\n",
       "        -0.86765522, -1.04757113, -0.86895727],\n",
       "       [-0.5105128 , -0.46121762, -0.25193329, -1.03002898, -0.52565748,\n",
       "        -0.86765522, -1.04757113, -0.86895727],\n",
       "       [-2.04670586, -0.93880639, -1.87210098, -1.03002898, -0.52565748,\n",
       "        -0.86765522, -1.04757113, -0.86895727],\n",
       "       [-0.5226677 , -0.3646778 ,  0.01809466,  0.35670122, -0.52565748,\n",
       "        -0.86765522, -1.04757113, -0.86895727],\n",
       "       [-0.56020767, -0.20984103, -0.79198919,  0.99529051, -0.52565748,\n",
       "        -0.86765522, -1.04757113, -0.86895727],\n",
       "       [-1.81362657, -0.20984103, -2.2771429 , -1.03002898, -0.52565748,\n",
       "        -0.86765522, -1.04757113, -0.86895727],\n",
       "       [-0.9610521 , -0.90192675, -0.11691932, -1.03002898, -0.52565748,\n",
       "        -0.86765522, -1.04757113, -0.86895727],\n",
       "       [-0.93418834, -0.05819996,  0.15310863, -1.03002898, -0.52565748,\n",
       "        -0.86765522, -1.04757113, -0.86895727],\n",
       "       [-2.30021799, -0.07100389, -0.11691932,  0.80827605, -0.52565748,\n",
       "        -0.86765522, -1.04757113, -0.86895727],\n",
       "       [ 0.22465908, -1.4220686 , -0.11691932, -1.03002898, -0.52565748,\n",
       "        -0.30083707,  0.34440695,  0.20024597],\n",
       "       [ 0.10834583, -1.47986344,  0.42313658, -1.03002898, -0.52565748,\n",
       "        -0.86765522,  0.34440695, -0.69075673],\n",
       "       [-0.12284403, -0.4385849 , -0.92700316, -1.03002898, -0.52565748,\n",
       "        -0.1807427 ,  0.34440695, -0.69075673],\n",
       "       [ 0.16302259, -1.33245984,  0.2881226 , -1.03002898, -0.52565748,\n",
       "        -0.86765522, -1.04757113, -0.86895727],\n",
       "       [-1.50573493, -0.26497044,  0.8281785 ,  0.79248386, -0.52565748,\n",
       "        -0.30083707,  0.34440695,  0.20024597],\n",
       "       [ 0.80038343,  0.04790351,  0.2881226 , -1.03002898, -0.52565748,\n",
       "         0.39606027, -1.04757113, -0.86895727],\n",
       "       [-1.63076627, -0.84767487, -3.08722674, -1.03002898, -0.52565748,\n",
       "        -0.86765522, -1.04757113, -0.86895727],\n",
       "       [-0.9958673 ,  0.46089542,  0.8281785 ,  1.07937567, -0.52565748,\n",
       "        -0.86765522, -1.04757113, -0.86895727],\n",
       "       [-0.17279428, -0.4917387 , -0.65697521, -1.03002898, -0.52565748,\n",
       "        -0.86765522, -1.04757113, -0.86895727],\n",
       "       [ 0.60486894, -0.30009502, -0.52196124,  0.95226146, -0.52565748,\n",
       "         1.09806826,  0.34440695, -0.15615511],\n",
       "       [-1.61593366, -0.59376893, -0.65697521, -0.62277959, -0.52565748,\n",
       "        -0.86765522, -1.04757113, -0.86895727],\n",
       "       [ 0.36817665, -0.4161657 , -0.11691932,  0.23411435, -0.52565748,\n",
       "         0.97627438,  0.34440695,  1.26944921],\n",
       "       [-0.82278841,  0.09023368,  0.69316453,  1.03860789, -0.52565748,\n",
       "        -0.86765522, -1.04757113, -0.86895727],\n",
       "       [ 0.08264956, -1.18343728,  0.55815055,  0.13839656, -0.52565748,\n",
       "        -0.86765522, -1.04757113, -0.86895727],\n",
       "       [-0.71399732,  0.21283185,  0.15310863, -1.03002898, -0.52565748,\n",
       "        -0.44509826,  0.34440695,  1.62585029],\n",
       "       [-1.49290981,  0.55616587,  0.42313658,  1.18900155, -0.52565748,\n",
       "        -0.86765522,  0.34440695, -0.15615511],\n",
       "       [-0.26415689, -1.17314627,  0.42313658,  0.08507392, -0.52565748,\n",
       "         0.16402005,  0.34440695,  1.98225137],\n",
       "       [ 0.9037135 , -0.59376893,  0.15310863, -1.03002898, -0.52565748,\n",
       "         1.29311536, -1.04757113, -0.86895727],\n",
       "       [-0.90814498,  1.08218997,  0.15310863,  1.29047369, -0.52565748,\n",
       "        -0.44509826, -1.04757113, -0.86895727],\n",
       "       [-0.9958673 ,  0.41177028,  0.15310863,  1.11160717, -0.52565748,\n",
       "        -0.86765522, -1.04757113, -0.86895727],\n",
       "       [-0.0636628 , -1.38806321,  0.96319247,  0.80827605, -0.52565748,\n",
       "        -0.86765522, -1.04757113, -0.86895727],\n",
       "       [-1.14287478, -0.84767487, -1.33204508, -1.03002898, -0.52565748,\n",
       "        -0.86765522, -1.04757113, -0.86895727],\n",
       "       [-1.15993242, -0.96684975, -0.11691932, -1.03002898, -0.52565748,\n",
       "        -0.44509826, -1.04757113, -0.86895727],\n",
       "       [-0.03554419,  1.15183144,  0.01809466,  1.43488428, -0.52565748,\n",
       "        -0.86765522,  0.34440695, -0.69075673],\n",
       "       [ 0.06234256,  0.0661392 ,  1.23322042, -0.47126026, -0.52565748,\n",
       "         1.32103713,  1.73638502, -0.33435565],\n",
       "       [-0.76124438, -2.94238594,  0.01809466, -1.03002898, -0.52565748,\n",
       "        -0.86765522,  0.34440695, -0.33435565],\n",
       "       [ 1.118048  ,  1.07038088,  0.55815055,  0.8822505 ,  1.90237946,\n",
       "         1.44637892,  0.34440695,  0.37844651],\n",
       "       [-0.47120382, -1.44501572, -1.06201713,  0.5790429 , -0.52565748,\n",
       "         0.01211097,  0.34440695, -0.69075673],\n",
       "       [-0.62209987, -1.14254072, -0.52196124, -1.03002898, -0.52565748,\n",
       "        -0.86765522,  3.1283631 ,  1.98225137],\n",
       "       [ 0.07862666,  0.12592138,  0.55815055, -1.03002898, -0.52565748,\n",
       "        -0.86765522,  0.34440695, -0.51255619],\n",
       "       [-0.65481608,  0.55616587, -0.25193329,  1.11787737, -0.52565748,\n",
       "        -0.1807427 , -1.04757113, -0.86895727],\n",
       "       [ 0.35951816,  0.62873791, -0.38694727, -1.03002898, -0.52565748,\n",
       "         0.71191882,  0.34440695, -0.65511662],\n",
       "       [ 0.1160991 , -0.51489465,  0.2881226 ,  1.14240568, -0.52565748,\n",
       "        -0.1807427 ,  0.34440695, -0.15615511],\n",
       "       [ 0.26772493, -0.55400096, -0.38694727,  0.35670122, -0.52565748,\n",
       "        -0.86765522,  0.34440695, -0.33435565],\n",
       "       [ 1.17509901,  0.85993605,  2.04330426,  1.23266023,  1.90237946,\n",
       "         2.03887464,  3.1283631 ,  2.69505353],\n",
       "       [-0.15936323,  0.95303849,  0.55815055,  1.11787737, -0.52565748,\n",
       "        -0.1807427 ,  0.34440695,  0.55664705],\n",
       "       [ 0.33747937, -0.30718329, -2.81719879, -1.03002898, -0.52565748,\n",
       "        -0.86765522, -1.04757113, -0.86895727],\n",
       "       [-0.11017138, -0.14270309,  0.8281785 ,  0.8822505 , -0.52565748,\n",
       "        -0.44509826, -1.04757113, -0.86895727],\n",
       "       [-0.22010989,  0.85561411,  0.55815055, -1.03002898, -0.52565748,\n",
       "        -0.86765522,  0.34440695,  0.91304813],\n",
       "       [ 0.26448829,  1.421615  ,  0.01809466,  1.36687051, -0.52565748,\n",
       "        -0.86765522, -1.04757113, -0.86895727],\n",
       "       [-0.71399732,  0.0110004 ,  0.01809466,  0.96483055, -0.52565748,\n",
       "         0.16402005,  0.34440695,  1.62585029],\n",
       "       [ 0.66269388,  1.15563954,  0.55815055,  1.15435171, -0.52565748,\n",
       "         1.16912805,  0.34440695,  0.55664705],\n",
       "       [ 1.53819093, -0.26497044, -0.65697521, -1.03002898, -0.52565748,\n",
       "        -0.86765522,  0.34440695, -0.69075673],\n",
       "       [-0.07083973,  1.52790617,  0.2881226 ,  1.40088236, -0.52565748,\n",
       "        -0.86765522,  0.34440695, -0.33435565],\n",
       "       [-0.32020395, -1.79233616, -2.2771429 , -1.03002898, -0.52565748,\n",
       "         0.48894996,  0.34440695, -0.72639684],\n",
       "       [-0.75586358,  0.31848951, -2.00711495,  0.91647239, -0.52565748,\n",
       "        -0.86765522, -1.04757113, -0.86895727],\n",
       "       [-0.68883756,  1.2888009 ,  0.8281785 ,  0.23411435, -0.52565748,\n",
       "        -0.86765522,  0.34440695, -0.15615511],\n",
       "       [-0.24626419,  0.52151525, -0.38694727,  0.82752319, -0.52565748,\n",
       "        -0.86765522,  0.34440695,  0.55664705],\n",
       "       [-0.76124438,  2.10127925,  1.23322042,  1.54225202, -0.52565748,\n",
       "        -0.86765522, -1.04757113, -0.86895727],\n",
       "       [ 0.55214455,  0.21283185, -0.11691932,  1.05246539,  1.90237946,\n",
       "         1.50170584,  0.34440695,  0.55664705],\n",
       "       [ 1.2159132 , -0.2441444 ,  1.09820645, -1.03002898, -0.52565748,\n",
       "         1.24908762,  3.1283631 ,  2.51685299],\n",
       "       [ 0.58394572,  0.67590387,  0.2881226 ,  1.32186427,  1.90237946,\n",
       "         1.64596703,  0.34440695,  1.26944921],\n",
       "       [ 0.61675184, -0.01392703,  0.01809466, -1.03002898, -0.52565748,\n",
       "        -0.86765522, -1.04757113, -0.86895727],\n",
       "       [ 0.09262458,  0.48634373, -0.38694727,  0.84625007, -0.52565748,\n",
       "        -0.1807427 ,  0.34440695, -0.15615511],\n",
       "       [ 0.57385266,  0.58546452,  0.55815055,  1.16609525, -0.52565748,\n",
       "         1.07914887,  0.34440695,  1.62585029],\n",
       "       [ 0.72349772,  0.99008707,  1.09820645,  1.52927559, -0.52565748,\n",
       "        -0.1807427 ,  0.34440695, -0.51255619],\n",
       "       [-1.53197866,  1.82921036,  0.69316453, -1.03002898, -0.52565748,\n",
       "        -0.86765522, -1.04757113, -0.86895727],\n",
       "       [-0.1331195 ,  2.70166094,  1.09820645,  1.54225202, -0.52565748,\n",
       "        -0.44509826,  0.34440695, -0.69075673],\n",
       "       [ 0.43842708, -0.08387821, -0.52196124, -1.03002898,  1.90237946,\n",
       "         1.07914887,  0.34440695,  1.26944921],\n",
       "       [-0.16203258, -0.67539077,  1.77327632,  1.14240568, -0.52565748,\n",
       "        -0.86765522,  0.34440695,  0.02204543],\n",
       "       [-0.11521787,  0.46089542,  0.69316453, -1.03002898,  1.90237946,\n",
       "         0.28936185,  0.34440695, -0.15615511],\n",
       "       [ 0.41700419, -0.92029384, -0.52196124,  0.23411435,  1.90237946,\n",
       "         0.97627438,  3.1283631 ,  2.33865245],\n",
       "       [ 1.40654082,  0.51652225,  0.69316453, -1.03002898,  1.90237946,\n",
       "         1.50170584,  0.34440695, -0.15615511],\n",
       "       [ 1.52756447, -0.85663082,  0.55815055, -0.1050703 ,  1.90237946,\n",
       "         1.8689359 ,  0.34440695,  0.91304813],\n",
       "       [ 0.56363872,  1.88843646,  1.09820645,  1.40088236, -0.52565748,\n",
       "         0.48894996,  0.34440695,  1.26944921],\n",
       "       [ 1.01288993,  1.70306453,  1.90829029,  1.54225202, -0.52565748,\n",
       "        -0.86765522,  0.34440695, -0.51255619],\n",
       "       [ 1.10725223, -0.10984037,  0.69316453, -1.03002898,  1.90237946,\n",
       "         1.98656829,  0.34440695,  1.62585029],\n",
       "       [ 1.2190955 ,  0.45577338, -0.11691932, -1.03002898, -0.52565748,\n",
       "         0.39606027,  0.34440695,  0.91304813],\n",
       "       [ 0.10052143, -1.31058265,  0.2881226 ,  0.31819952, -0.52565748,\n",
       "         0.28936185,  0.34440695,  0.55664705],\n",
       "       [ 0.99242046, -0.3646778 , -0.92700316,  0.23411435, -0.52565748,\n",
       "         1.80201365,  0.34440695,  1.26944921],\n",
       "       [ 1.077152  ,  0.60960358,  1.77327632, -0.43510323,  1.90237946,\n",
       "         0.5312501 ,  0.34440695,  0.20024597],\n",
       "       [ 1.132233  ,  0.49140008,  0.15310863,  0.7030969 , -0.52565748,\n",
       "         1.38643629,  3.1283631 ,  1.62585029],\n",
       "       [ 0.18109221,  0.1899692 , -0.52196124,  1.10527971, -0.52565748,\n",
       "         0.71191882,  0.34440695,  0.20024597],\n",
       "       [ 1.66548696, -0.25800887,  0.01809466, -1.03002898,  1.90237946,\n",
       "         1.80201365,  0.34440695,  1.26944921],\n",
       "       [ 0.57498003,  0.24110046, -0.79198919,  1.06605117, -0.52565748,\n",
       "        -0.86765522, -1.04757113, -0.86895727],\n",
       "       [ 0.32548825, -0.60986946, -0.25193329, -1.03002898,  1.90237946,\n",
       "         0.34468877,  0.34440695,  0.20024597],\n",
       "       [ 1.24310643,  2.55541174,  0.15310863, -1.03002898,  1.90237946,\n",
       "         1.90019713,  0.34440695,  1.26944921],\n",
       "       [ 0.18109221,  0.15525053,  1.63826234,  0.5790429 ,  1.90237946,\n",
       "         0.71191882,  0.34440695,  1.80405083],\n",
       "       [ 1.61742159,  1.10952004,  0.55815055, -1.03002898, -0.52565748,\n",
       "        -0.86765522, -1.04757113, -0.86895727],\n",
       "       [ 1.00883515,  0.11408648, -0.38694727,  0.86448408,  1.90237946,\n",
       "        -0.86765522,  0.34440695, -0.33435565],\n",
       "       [ 1.26244405,  0.58060761,  0.55815055, -1.03002898,  1.90237946,\n",
       "         1.07914887,  0.34440695,  1.26944921],\n",
       "       [ 2.10739693,  0.62873791, -2.68218482, -1.03002898,  1.90237946,\n",
       "         1.68826718,  0.34440695,  0.55664705],\n",
       "       [ 1.3282669 , -0.54612667, -1.60207303, -1.03002898,  1.90237946,\n",
       "         1.90019713,  0.34440695, -0.51255619],\n",
       "       [ 1.30704467,  0.34014146,  0.55815055,  1.0100326 ,  1.90237946,\n",
       "         1.24908762,  0.34440695,  1.98225137],\n",
       "       [ 1.80971922,  0.81196061,  0.55815055,  0.23411435,  1.90237946,\n",
       "         2.21673517,  0.34440695, -0.15615511]])"
      ]
     },
     "execution_count": 15,
     "metadata": {},
     "output_type": "execute_result"
    }
   ],
   "source": [
    "datastd"
   ]
  },
  {
   "cell_type": "code",
   "execution_count": 16,
   "id": "cd00ec6f",
   "metadata": {},
   "outputs": [
    {
     "data": {
      "text/html": [
       "<div>\n",
       "<style scoped>\n",
       "    .dataframe tbody tr th:only-of-type {\n",
       "        vertical-align: middle;\n",
       "    }\n",
       "\n",
       "    .dataframe tbody tr th {\n",
       "        vertical-align: top;\n",
       "    }\n",
       "\n",
       "    .dataframe thead th {\n",
       "        text-align: right;\n",
       "    }\n",
       "</style>\n",
       "<table border=\"1\" class=\"dataframe\">\n",
       "  <thead>\n",
       "    <tr style=\"text-align: right;\">\n",
       "      <th></th>\n",
       "      <th>lcavol</th>\n",
       "      <th>lweight</th>\n",
       "      <th>age</th>\n",
       "      <th>lbph</th>\n",
       "      <th>svi</th>\n",
       "      <th>lcp</th>\n",
       "      <th>gleason</th>\n",
       "      <th>pgg45</th>\n",
       "      <th>lpsa</th>\n",
       "      <th>train</th>\n",
       "    </tr>\n",
       "  </thead>\n",
       "  <tbody>\n",
       "    <tr>\n",
       "      <th>0</th>\n",
       "      <td>-1.645861</td>\n",
       "      <td>-2.016634</td>\n",
       "      <td>-1.872101</td>\n",
       "      <td>-1.030029</td>\n",
       "      <td>-0.525657</td>\n",
       "      <td>-0.867655</td>\n",
       "      <td>-1.047571</td>\n",
       "      <td>-0.868957</td>\n",
       "      <td>-0.430783</td>\n",
       "      <td>T</td>\n",
       "    </tr>\n",
       "    <tr>\n",
       "      <th>1</th>\n",
       "      <td>-1.999313</td>\n",
       "      <td>-0.725759</td>\n",
       "      <td>-0.791989</td>\n",
       "      <td>-1.030029</td>\n",
       "      <td>-0.525657</td>\n",
       "      <td>-0.867655</td>\n",
       "      <td>-1.047571</td>\n",
       "      <td>-0.868957</td>\n",
       "      <td>-0.162519</td>\n",
       "      <td>T</td>\n",
       "    </tr>\n",
       "    <tr>\n",
       "      <th>2</th>\n",
       "      <td>-1.587021</td>\n",
       "      <td>-2.200154</td>\n",
       "      <td>1.368234</td>\n",
       "      <td>-1.030029</td>\n",
       "      <td>-0.525657</td>\n",
       "      <td>-0.867655</td>\n",
       "      <td>0.344407</td>\n",
       "      <td>-0.156155</td>\n",
       "      <td>-0.162519</td>\n",
       "      <td>T</td>\n",
       "    </tr>\n",
       "    <tr>\n",
       "      <th>3</th>\n",
       "      <td>-2.178174</td>\n",
       "      <td>-0.812191</td>\n",
       "      <td>-0.791989</td>\n",
       "      <td>-1.030029</td>\n",
       "      <td>-0.525657</td>\n",
       "      <td>-0.867655</td>\n",
       "      <td>-1.047571</td>\n",
       "      <td>-0.868957</td>\n",
       "      <td>-0.162519</td>\n",
       "      <td>T</td>\n",
       "    </tr>\n",
       "    <tr>\n",
       "      <th>4</th>\n",
       "      <td>-0.510513</td>\n",
       "      <td>-0.461218</td>\n",
       "      <td>-0.251933</td>\n",
       "      <td>-1.030029</td>\n",
       "      <td>-0.525657</td>\n",
       "      <td>-0.867655</td>\n",
       "      <td>-1.047571</td>\n",
       "      <td>-0.868957</td>\n",
       "      <td>0.371564</td>\n",
       "      <td>T</td>\n",
       "    </tr>\n",
       "    <tr>\n",
       "      <th>...</th>\n",
       "      <td>...</td>\n",
       "      <td>...</td>\n",
       "      <td>...</td>\n",
       "      <td>...</td>\n",
       "      <td>...</td>\n",
       "      <td>...</td>\n",
       "      <td>...</td>\n",
       "      <td>...</td>\n",
       "      <td>...</td>\n",
       "      <td>...</td>\n",
       "    </tr>\n",
       "    <tr>\n",
       "      <th>92</th>\n",
       "      <td>1.262444</td>\n",
       "      <td>0.580608</td>\n",
       "      <td>0.558151</td>\n",
       "      <td>-1.030029</td>\n",
       "      <td>1.902379</td>\n",
       "      <td>1.079149</td>\n",
       "      <td>0.344407</td>\n",
       "      <td>1.269449</td>\n",
       "      <td>4.385147</td>\n",
       "      <td>T</td>\n",
       "    </tr>\n",
       "    <tr>\n",
       "      <th>93</th>\n",
       "      <td>2.107397</td>\n",
       "      <td>0.628738</td>\n",
       "      <td>-2.682185</td>\n",
       "      <td>-1.030029</td>\n",
       "      <td>1.902379</td>\n",
       "      <td>1.688267</td>\n",
       "      <td>0.344407</td>\n",
       "      <td>0.556647</td>\n",
       "      <td>4.684443</td>\n",
       "      <td>T</td>\n",
       "    </tr>\n",
       "    <tr>\n",
       "      <th>94</th>\n",
       "      <td>1.328267</td>\n",
       "      <td>-0.546127</td>\n",
       "      <td>-1.602073</td>\n",
       "      <td>-1.030029</td>\n",
       "      <td>1.902379</td>\n",
       "      <td>1.900197</td>\n",
       "      <td>0.344407</td>\n",
       "      <td>-0.512556</td>\n",
       "      <td>5.143124</td>\n",
       "      <td>F</td>\n",
       "    </tr>\n",
       "    <tr>\n",
       "      <th>95</th>\n",
       "      <td>1.307045</td>\n",
       "      <td>0.340141</td>\n",
       "      <td>0.558151</td>\n",
       "      <td>1.010033</td>\n",
       "      <td>1.902379</td>\n",
       "      <td>1.249088</td>\n",
       "      <td>0.344407</td>\n",
       "      <td>1.982251</td>\n",
       "      <td>5.477509</td>\n",
       "      <td>T</td>\n",
       "    </tr>\n",
       "    <tr>\n",
       "      <th>96</th>\n",
       "      <td>1.809719</td>\n",
       "      <td>0.811961</td>\n",
       "      <td>0.558151</td>\n",
       "      <td>0.234114</td>\n",
       "      <td>1.902379</td>\n",
       "      <td>2.216735</td>\n",
       "      <td>0.344407</td>\n",
       "      <td>-0.156155</td>\n",
       "      <td>5.582932</td>\n",
       "      <td>F</td>\n",
       "    </tr>\n",
       "  </tbody>\n",
       "</table>\n",
       "<p>97 rows × 10 columns</p>\n",
       "</div>"
      ],
      "text/plain": [
       "      lcavol   lweight       age      lbph       svi       lcp   gleason  \\\n",
       "0  -1.645861 -2.016634 -1.872101 -1.030029 -0.525657 -0.867655 -1.047571   \n",
       "1  -1.999313 -0.725759 -0.791989 -1.030029 -0.525657 -0.867655 -1.047571   \n",
       "2  -1.587021 -2.200154  1.368234 -1.030029 -0.525657 -0.867655  0.344407   \n",
       "3  -2.178174 -0.812191 -0.791989 -1.030029 -0.525657 -0.867655 -1.047571   \n",
       "4  -0.510513 -0.461218 -0.251933 -1.030029 -0.525657 -0.867655 -1.047571   \n",
       "..       ...       ...       ...       ...       ...       ...       ...   \n",
       "92  1.262444  0.580608  0.558151 -1.030029  1.902379  1.079149  0.344407   \n",
       "93  2.107397  0.628738 -2.682185 -1.030029  1.902379  1.688267  0.344407   \n",
       "94  1.328267 -0.546127 -1.602073 -1.030029  1.902379  1.900197  0.344407   \n",
       "95  1.307045  0.340141  0.558151  1.010033  1.902379  1.249088  0.344407   \n",
       "96  1.809719  0.811961  0.558151  0.234114  1.902379  2.216735  0.344407   \n",
       "\n",
       "       pgg45      lpsa train  \n",
       "0  -0.868957 -0.430783     T  \n",
       "1  -0.868957 -0.162519     T  \n",
       "2  -0.156155 -0.162519     T  \n",
       "3  -0.868957 -0.162519     T  \n",
       "4  -0.868957  0.371564     T  \n",
       "..       ...       ...   ...  \n",
       "92  1.269449  4.385147     T  \n",
       "93  0.556647  4.684443     T  \n",
       "94 -0.512556  5.143124     F  \n",
       "95  1.982251  5.477509     T  \n",
       "96 -0.156155  5.582932     F  \n",
       "\n",
       "[97 rows x 10 columns]"
      ]
     },
     "execution_count": 16,
     "metadata": {},
     "output_type": "execute_result"
    }
   ],
   "source": [
    "#dataframe com dados de entrada X padronizados\n",
    "\n",
    "#inclui os dados y ('lpsa') originais\n",
    "df_std_aux= pd.DataFrame(datastd, columns= ['lcavol', 'lweight', 'age', 'lbph', 'svi', 'lcp', 'gleason', 'pgg45']).merge(df['lpsa'],left_index= True, right_index = True)\n",
    "#incluindo novamente as classes de treino e teste\n",
    "df_std=df_std_aux.merge(df['train'],left_index= True, right_index = True)\n",
    "df_std"
   ]
  },
  {
   "cell_type": "code",
   "execution_count": 17,
   "id": "47d8a4ea",
   "metadata": {},
   "outputs": [
    {
     "data": {
      "text/html": [
       "<div>\n",
       "<style scoped>\n",
       "    .dataframe tbody tr th:only-of-type {\n",
       "        vertical-align: middle;\n",
       "    }\n",
       "\n",
       "    .dataframe tbody tr th {\n",
       "        vertical-align: top;\n",
       "    }\n",
       "\n",
       "    .dataframe thead th {\n",
       "        text-align: right;\n",
       "    }\n",
       "</style>\n",
       "<table border=\"1\" class=\"dataframe\">\n",
       "  <thead>\n",
       "    <tr style=\"text-align: right;\">\n",
       "      <th></th>\n",
       "      <th>lcavol</th>\n",
       "      <th>lweight</th>\n",
       "      <th>age</th>\n",
       "      <th>lbph</th>\n",
       "      <th>svi</th>\n",
       "      <th>lcp</th>\n",
       "      <th>gleason</th>\n",
       "      <th>pgg45</th>\n",
       "      <th>lpsa</th>\n",
       "    </tr>\n",
       "  </thead>\n",
       "  <tbody>\n",
       "    <tr>\n",
       "      <th>count</th>\n",
       "      <td>9.700000e+01</td>\n",
       "      <td>9.700000e+01</td>\n",
       "      <td>9.700000e+01</td>\n",
       "      <td>9.700000e+01</td>\n",
       "      <td>9.700000e+01</td>\n",
       "      <td>9.700000e+01</td>\n",
       "      <td>9.700000e+01</td>\n",
       "      <td>9.700000e+01</td>\n",
       "      <td>97.000000</td>\n",
       "    </tr>\n",
       "    <tr>\n",
       "      <th>mean</th>\n",
       "      <td>4.578239e-17</td>\n",
       "      <td>6.844468e-16</td>\n",
       "      <td>4.131861e-16</td>\n",
       "      <td>-2.432190e-17</td>\n",
       "      <td>-3.662591e-17</td>\n",
       "      <td>3.662591e-17</td>\n",
       "      <td>-2.174664e-17</td>\n",
       "      <td>5.636957e-17</td>\n",
       "      <td>2.478387</td>\n",
       "    </tr>\n",
       "    <tr>\n",
       "      <th>std</th>\n",
       "      <td>1.005195e+00</td>\n",
       "      <td>1.005195e+00</td>\n",
       "      <td>1.005195e+00</td>\n",
       "      <td>1.005195e+00</td>\n",
       "      <td>1.005195e+00</td>\n",
       "      <td>1.005195e+00</td>\n",
       "      <td>1.005195e+00</td>\n",
       "      <td>1.005195e+00</td>\n",
       "      <td>1.154329</td>\n",
       "    </tr>\n",
       "    <tr>\n",
       "      <th>min</th>\n",
       "      <td>-2.300218e+00</td>\n",
       "      <td>-2.942386e+00</td>\n",
       "      <td>-3.087227e+00</td>\n",
       "      <td>-1.030029e+00</td>\n",
       "      <td>-5.256575e-01</td>\n",
       "      <td>-8.676552e-01</td>\n",
       "      <td>-1.047571e+00</td>\n",
       "      <td>-8.689573e-01</td>\n",
       "      <td>-0.430783</td>\n",
       "    </tr>\n",
       "    <tr>\n",
       "      <th>25%</th>\n",
       "      <td>-7.139973e-01</td>\n",
       "      <td>-5.937689e-01</td>\n",
       "      <td>-5.219612e-01</td>\n",
       "      <td>-1.030029e+00</td>\n",
       "      <td>-5.256575e-01</td>\n",
       "      <td>-8.676552e-01</td>\n",
       "      <td>-1.047571e+00</td>\n",
       "      <td>-8.689573e-01</td>\n",
       "      <td>1.731656</td>\n",
       "    </tr>\n",
       "    <tr>\n",
       "      <th>50%</th>\n",
       "      <td>8.264956e-02</td>\n",
       "      <td>-1.392703e-02</td>\n",
       "      <td>1.531086e-01</td>\n",
       "      <td>1.383966e-01</td>\n",
       "      <td>-5.256575e-01</td>\n",
       "      <td>-4.450983e-01</td>\n",
       "      <td>3.444069e-01</td>\n",
       "      <td>-3.343557e-01</td>\n",
       "      <td>2.591516</td>\n",
       "    </tr>\n",
       "    <tr>\n",
       "      <th>75%</th>\n",
       "      <td>6.626939e-01</td>\n",
       "      <td>5.806076e-01</td>\n",
       "      <td>5.581506e-01</td>\n",
       "      <td>1.010033e+00</td>\n",
       "      <td>-5.256575e-01</td>\n",
       "      <td>9.762744e-01</td>\n",
       "      <td>3.444069e-01</td>\n",
       "      <td>5.566470e-01</td>\n",
       "      <td>3.056357</td>\n",
       "    </tr>\n",
       "    <tr>\n",
       "      <th>max</th>\n",
       "      <td>2.107397e+00</td>\n",
       "      <td>2.701661e+00</td>\n",
       "      <td>2.043304e+00</td>\n",
       "      <td>1.542252e+00</td>\n",
       "      <td>1.902379e+00</td>\n",
       "      <td>2.216735e+00</td>\n",
       "      <td>3.128363e+00</td>\n",
       "      <td>2.695054e+00</td>\n",
       "      <td>5.582932</td>\n",
       "    </tr>\n",
       "  </tbody>\n",
       "</table>\n",
       "</div>"
      ],
      "text/plain": [
       "             lcavol       lweight           age          lbph           svi  \\\n",
       "count  9.700000e+01  9.700000e+01  9.700000e+01  9.700000e+01  9.700000e+01   \n",
       "mean   4.578239e-17  6.844468e-16  4.131861e-16 -2.432190e-17 -3.662591e-17   \n",
       "std    1.005195e+00  1.005195e+00  1.005195e+00  1.005195e+00  1.005195e+00   \n",
       "min   -2.300218e+00 -2.942386e+00 -3.087227e+00 -1.030029e+00 -5.256575e-01   \n",
       "25%   -7.139973e-01 -5.937689e-01 -5.219612e-01 -1.030029e+00 -5.256575e-01   \n",
       "50%    8.264956e-02 -1.392703e-02  1.531086e-01  1.383966e-01 -5.256575e-01   \n",
       "75%    6.626939e-01  5.806076e-01  5.581506e-01  1.010033e+00 -5.256575e-01   \n",
       "max    2.107397e+00  2.701661e+00  2.043304e+00  1.542252e+00  1.902379e+00   \n",
       "\n",
       "                lcp       gleason         pgg45       lpsa  \n",
       "count  9.700000e+01  9.700000e+01  9.700000e+01  97.000000  \n",
       "mean   3.662591e-17 -2.174664e-17  5.636957e-17   2.478387  \n",
       "std    1.005195e+00  1.005195e+00  1.005195e+00   1.154329  \n",
       "min   -8.676552e-01 -1.047571e+00 -8.689573e-01  -0.430783  \n",
       "25%   -8.676552e-01 -1.047571e+00 -8.689573e-01   1.731656  \n",
       "50%   -4.450983e-01  3.444069e-01 -3.343557e-01   2.591516  \n",
       "75%    9.762744e-01  3.444069e-01  5.566470e-01   3.056357  \n",
       "max    2.216735e+00  3.128363e+00  2.695054e+00   5.582932  "
      ]
     },
     "execution_count": 17,
     "metadata": {},
     "output_type": "execute_result"
    }
   ],
   "source": [
    "#caracterização estatítisca preliminar\n",
    "df_std.describe()"
   ]
  },
  {
   "cell_type": "code",
   "execution_count": 18,
   "id": "e7a9db36",
   "metadata": {},
   "outputs": [
    {
     "name": "stderr",
     "output_type": "stream",
     "text": [
      "C:\\Users\\User\\AppData\\Local\\Temp\\ipykernel_13044\\2799390167.py:2: FutureWarning: The default value of numeric_only in DataFrame.corr is deprecated. In a future version, it will default to False. Select only valid columns or specify the value of numeric_only to silence this warning.\n",
      "  df_std.corr()\n"
     ]
    },
    {
     "data": {
      "text/html": [
       "<div>\n",
       "<style scoped>\n",
       "    .dataframe tbody tr th:only-of-type {\n",
       "        vertical-align: middle;\n",
       "    }\n",
       "\n",
       "    .dataframe tbody tr th {\n",
       "        vertical-align: top;\n",
       "    }\n",
       "\n",
       "    .dataframe thead th {\n",
       "        text-align: right;\n",
       "    }\n",
       "</style>\n",
       "<table border=\"1\" class=\"dataframe\">\n",
       "  <thead>\n",
       "    <tr style=\"text-align: right;\">\n",
       "      <th></th>\n",
       "      <th>lcavol</th>\n",
       "      <th>lweight</th>\n",
       "      <th>age</th>\n",
       "      <th>lbph</th>\n",
       "      <th>svi</th>\n",
       "      <th>lcp</th>\n",
       "      <th>gleason</th>\n",
       "      <th>pgg45</th>\n",
       "      <th>lpsa</th>\n",
       "    </tr>\n",
       "  </thead>\n",
       "  <tbody>\n",
       "    <tr>\n",
       "      <th>lcavol</th>\n",
       "      <td>1.000000</td>\n",
       "      <td>0.280521</td>\n",
       "      <td>0.225000</td>\n",
       "      <td>0.027350</td>\n",
       "      <td>0.538845</td>\n",
       "      <td>0.675310</td>\n",
       "      <td>0.432417</td>\n",
       "      <td>0.433652</td>\n",
       "      <td>0.734460</td>\n",
       "    </tr>\n",
       "    <tr>\n",
       "      <th>lweight</th>\n",
       "      <td>0.280521</td>\n",
       "      <td>1.000000</td>\n",
       "      <td>0.347969</td>\n",
       "      <td>0.442264</td>\n",
       "      <td>0.155385</td>\n",
       "      <td>0.164537</td>\n",
       "      <td>0.056882</td>\n",
       "      <td>0.107354</td>\n",
       "      <td>0.433319</td>\n",
       "    </tr>\n",
       "    <tr>\n",
       "      <th>age</th>\n",
       "      <td>0.225000</td>\n",
       "      <td>0.347969</td>\n",
       "      <td>1.000000</td>\n",
       "      <td>0.350186</td>\n",
       "      <td>0.117658</td>\n",
       "      <td>0.127668</td>\n",
       "      <td>0.268892</td>\n",
       "      <td>0.276112</td>\n",
       "      <td>0.169593</td>\n",
       "    </tr>\n",
       "    <tr>\n",
       "      <th>lbph</th>\n",
       "      <td>0.027350</td>\n",
       "      <td>0.442264</td>\n",
       "      <td>0.350186</td>\n",
       "      <td>1.000000</td>\n",
       "      <td>-0.085843</td>\n",
       "      <td>-0.006999</td>\n",
       "      <td>0.077820</td>\n",
       "      <td>0.078460</td>\n",
       "      <td>0.179809</td>\n",
       "    </tr>\n",
       "    <tr>\n",
       "      <th>svi</th>\n",
       "      <td>0.538845</td>\n",
       "      <td>0.155385</td>\n",
       "      <td>0.117658</td>\n",
       "      <td>-0.085843</td>\n",
       "      <td>1.000000</td>\n",
       "      <td>0.673111</td>\n",
       "      <td>0.320412</td>\n",
       "      <td>0.457648</td>\n",
       "      <td>0.566218</td>\n",
       "    </tr>\n",
       "    <tr>\n",
       "      <th>lcp</th>\n",
       "      <td>0.675310</td>\n",
       "      <td>0.164537</td>\n",
       "      <td>0.127668</td>\n",
       "      <td>-0.006999</td>\n",
       "      <td>0.673111</td>\n",
       "      <td>1.000000</td>\n",
       "      <td>0.514830</td>\n",
       "      <td>0.631528</td>\n",
       "      <td>0.548813</td>\n",
       "    </tr>\n",
       "    <tr>\n",
       "      <th>gleason</th>\n",
       "      <td>0.432417</td>\n",
       "      <td>0.056882</td>\n",
       "      <td>0.268892</td>\n",
       "      <td>0.077820</td>\n",
       "      <td>0.320412</td>\n",
       "      <td>0.514830</td>\n",
       "      <td>1.000000</td>\n",
       "      <td>0.751905</td>\n",
       "      <td>0.368987</td>\n",
       "    </tr>\n",
       "    <tr>\n",
       "      <th>pgg45</th>\n",
       "      <td>0.433652</td>\n",
       "      <td>0.107354</td>\n",
       "      <td>0.276112</td>\n",
       "      <td>0.078460</td>\n",
       "      <td>0.457648</td>\n",
       "      <td>0.631528</td>\n",
       "      <td>0.751905</td>\n",
       "      <td>1.000000</td>\n",
       "      <td>0.422316</td>\n",
       "    </tr>\n",
       "    <tr>\n",
       "      <th>lpsa</th>\n",
       "      <td>0.734460</td>\n",
       "      <td>0.433319</td>\n",
       "      <td>0.169593</td>\n",
       "      <td>0.179809</td>\n",
       "      <td>0.566218</td>\n",
       "      <td>0.548813</td>\n",
       "      <td>0.368987</td>\n",
       "      <td>0.422316</td>\n",
       "      <td>1.000000</td>\n",
       "    </tr>\n",
       "  </tbody>\n",
       "</table>\n",
       "</div>"
      ],
      "text/plain": [
       "           lcavol   lweight       age      lbph       svi       lcp   gleason  \\\n",
       "lcavol   1.000000  0.280521  0.225000  0.027350  0.538845  0.675310  0.432417   \n",
       "lweight  0.280521  1.000000  0.347969  0.442264  0.155385  0.164537  0.056882   \n",
       "age      0.225000  0.347969  1.000000  0.350186  0.117658  0.127668  0.268892   \n",
       "lbph     0.027350  0.442264  0.350186  1.000000 -0.085843 -0.006999  0.077820   \n",
       "svi      0.538845  0.155385  0.117658 -0.085843  1.000000  0.673111  0.320412   \n",
       "lcp      0.675310  0.164537  0.127668 -0.006999  0.673111  1.000000  0.514830   \n",
       "gleason  0.432417  0.056882  0.268892  0.077820  0.320412  0.514830  1.000000   \n",
       "pgg45    0.433652  0.107354  0.276112  0.078460  0.457648  0.631528  0.751905   \n",
       "lpsa     0.734460  0.433319  0.169593  0.179809  0.566218  0.548813  0.368987   \n",
       "\n",
       "            pgg45      lpsa  \n",
       "lcavol   0.433652  0.734460  \n",
       "lweight  0.107354  0.433319  \n",
       "age      0.276112  0.169593  \n",
       "lbph     0.078460  0.179809  \n",
       "svi      0.457648  0.566218  \n",
       "lcp      0.631528  0.548813  \n",
       "gleason  0.751905  0.368987  \n",
       "pgg45    1.000000  0.422316  \n",
       "lpsa     0.422316  1.000000  "
      ]
     },
     "execution_count": 18,
     "metadata": {},
     "output_type": "execute_result"
    }
   ],
   "source": [
    "#matrix_correlacao\n",
    "df_std.corr()"
   ]
  },
  {
   "cell_type": "code",
   "execution_count": 19,
   "id": "2a610d89",
   "metadata": {},
   "outputs": [
    {
     "name": "stderr",
     "output_type": "stream",
     "text": [
      "C:\\Users\\User\\AppData\\Local\\Temp\\ipykernel_13044\\1308883536.py:2: FutureWarning: The default value of numeric_only in DataFrame.corr is deprecated. In a future version, it will default to False. Select only valid columns or specify the value of numeric_only to silence this warning.\n",
      "  plotstd = sn.heatmap(df.corr(), annot = True,fmt=\".1f\",cmap = 'coolwarm')\n"
     ]
    },
    {
     "data": {
      "image/png": "[encoded data removed]",
      "text/plain": [
       "<Figure size 640x480 with 2 Axes>"
      ]
     },
     "metadata": {},
     "output_type": "display_data"
    }
   ],
   "source": [
    "#matriz de correlação - dados padronizados\n",
    "plotstd = sn.heatmap(df.corr(), annot = True,fmt=\".1f\",cmap = 'coolwarm')\n",
    "plotstd\n",
    "plt.show()"
   ]
  },
  {
   "cell_type": "raw",
   "id": "7c7b423e",
   "metadata": {},
   "source": [
    "Nota: A matriz de correlação não é afetada pela padronização porque o coeficiente de correlação é igual à covariância dividida\n",
    "pelo produto dos desvios padrão das variáveis. Já é normalizado."
   ]
  },
  {
   "cell_type": "code",
   "execution_count": 20,
   "id": "27c5b254",
   "metadata": {},
   "outputs": [
    {
     "data": {
      "text/html": [
       "<div>\n",
       "<style scoped>\n",
       "    .dataframe tbody tr th:only-of-type {\n",
       "        vertical-align: middle;\n",
       "    }\n",
       "\n",
       "    .dataframe tbody tr th {\n",
       "        vertical-align: top;\n",
       "    }\n",
       "\n",
       "    .dataframe thead th {\n",
       "        text-align: right;\n",
       "    }\n",
       "</style>\n",
       "<table border=\"1\" class=\"dataframe\">\n",
       "  <thead>\n",
       "    <tr style=\"text-align: right;\">\n",
       "      <th></th>\n",
       "      <th>lcavol</th>\n",
       "      <th>lweight</th>\n",
       "      <th>age</th>\n",
       "      <th>lbph</th>\n",
       "      <th>svi</th>\n",
       "      <th>lcp</th>\n",
       "      <th>gleason</th>\n",
       "      <th>pgg45</th>\n",
       "      <th>lpsa</th>\n",
       "      <th>train</th>\n",
       "    </tr>\n",
       "  </thead>\n",
       "  <tbody>\n",
       "    <tr>\n",
       "      <th>0</th>\n",
       "      <td>-1.645861</td>\n",
       "      <td>-2.016634</td>\n",
       "      <td>-1.872101</td>\n",
       "      <td>-1.030029</td>\n",
       "      <td>-0.525657</td>\n",
       "      <td>-0.867655</td>\n",
       "      <td>-1.047571</td>\n",
       "      <td>-0.868957</td>\n",
       "      <td>-0.430783</td>\n",
       "      <td>T</td>\n",
       "    </tr>\n",
       "    <tr>\n",
       "      <th>1</th>\n",
       "      <td>-1.999313</td>\n",
       "      <td>-0.725759</td>\n",
       "      <td>-0.791989</td>\n",
       "      <td>-1.030029</td>\n",
       "      <td>-0.525657</td>\n",
       "      <td>-0.867655</td>\n",
       "      <td>-1.047571</td>\n",
       "      <td>-0.868957</td>\n",
       "      <td>-0.162519</td>\n",
       "      <td>T</td>\n",
       "    </tr>\n",
       "    <tr>\n",
       "      <th>2</th>\n",
       "      <td>-1.587021</td>\n",
       "      <td>-2.200154</td>\n",
       "      <td>1.368234</td>\n",
       "      <td>-1.030029</td>\n",
       "      <td>-0.525657</td>\n",
       "      <td>-0.867655</td>\n",
       "      <td>0.344407</td>\n",
       "      <td>-0.156155</td>\n",
       "      <td>-0.162519</td>\n",
       "      <td>T</td>\n",
       "    </tr>\n",
       "    <tr>\n",
       "      <th>3</th>\n",
       "      <td>-2.178174</td>\n",
       "      <td>-0.812191</td>\n",
       "      <td>-0.791989</td>\n",
       "      <td>-1.030029</td>\n",
       "      <td>-0.525657</td>\n",
       "      <td>-0.867655</td>\n",
       "      <td>-1.047571</td>\n",
       "      <td>-0.868957</td>\n",
       "      <td>-0.162519</td>\n",
       "      <td>T</td>\n",
       "    </tr>\n",
       "    <tr>\n",
       "      <th>4</th>\n",
       "      <td>-0.510513</td>\n",
       "      <td>-0.461218</td>\n",
       "      <td>-0.251933</td>\n",
       "      <td>-1.030029</td>\n",
       "      <td>-0.525657</td>\n",
       "      <td>-0.867655</td>\n",
       "      <td>-1.047571</td>\n",
       "      <td>-0.868957</td>\n",
       "      <td>0.371564</td>\n",
       "      <td>T</td>\n",
       "    </tr>\n",
       "    <tr>\n",
       "      <th>...</th>\n",
       "      <td>...</td>\n",
       "      <td>...</td>\n",
       "      <td>...</td>\n",
       "      <td>...</td>\n",
       "      <td>...</td>\n",
       "      <td>...</td>\n",
       "      <td>...</td>\n",
       "      <td>...</td>\n",
       "      <td>...</td>\n",
       "      <td>...</td>\n",
       "    </tr>\n",
       "    <tr>\n",
       "      <th>90</th>\n",
       "      <td>1.617422</td>\n",
       "      <td>1.109520</td>\n",
       "      <td>0.558151</td>\n",
       "      <td>-1.030029</td>\n",
       "      <td>-0.525657</td>\n",
       "      <td>-0.867655</td>\n",
       "      <td>-1.047571</td>\n",
       "      <td>-0.868957</td>\n",
       "      <td>4.029806</td>\n",
       "      <td>T</td>\n",
       "    </tr>\n",
       "    <tr>\n",
       "      <th>91</th>\n",
       "      <td>1.008835</td>\n",
       "      <td>0.114086</td>\n",
       "      <td>-0.386947</td>\n",
       "      <td>0.864484</td>\n",
       "      <td>1.902379</td>\n",
       "      <td>-0.867655</td>\n",
       "      <td>0.344407</td>\n",
       "      <td>-0.334356</td>\n",
       "      <td>4.129551</td>\n",
       "      <td>T</td>\n",
       "    </tr>\n",
       "    <tr>\n",
       "      <th>92</th>\n",
       "      <td>1.262444</td>\n",
       "      <td>0.580608</td>\n",
       "      <td>0.558151</td>\n",
       "      <td>-1.030029</td>\n",
       "      <td>1.902379</td>\n",
       "      <td>1.079149</td>\n",
       "      <td>0.344407</td>\n",
       "      <td>1.269449</td>\n",
       "      <td>4.385147</td>\n",
       "      <td>T</td>\n",
       "    </tr>\n",
       "    <tr>\n",
       "      <th>93</th>\n",
       "      <td>2.107397</td>\n",
       "      <td>0.628738</td>\n",
       "      <td>-2.682185</td>\n",
       "      <td>-1.030029</td>\n",
       "      <td>1.902379</td>\n",
       "      <td>1.688267</td>\n",
       "      <td>0.344407</td>\n",
       "      <td>0.556647</td>\n",
       "      <td>4.684443</td>\n",
       "      <td>T</td>\n",
       "    </tr>\n",
       "    <tr>\n",
       "      <th>95</th>\n",
       "      <td>1.307045</td>\n",
       "      <td>0.340141</td>\n",
       "      <td>0.558151</td>\n",
       "      <td>1.010033</td>\n",
       "      <td>1.902379</td>\n",
       "      <td>1.249088</td>\n",
       "      <td>0.344407</td>\n",
       "      <td>1.982251</td>\n",
       "      <td>5.477509</td>\n",
       "      <td>T</td>\n",
       "    </tr>\n",
       "  </tbody>\n",
       "</table>\n",
       "<p>67 rows × 10 columns</p>\n",
       "</div>"
      ],
      "text/plain": [
       "      lcavol   lweight       age      lbph       svi       lcp   gleason  \\\n",
       "0  -1.645861 -2.016634 -1.872101 -1.030029 -0.525657 -0.867655 -1.047571   \n",
       "1  -1.999313 -0.725759 -0.791989 -1.030029 -0.525657 -0.867655 -1.047571   \n",
       "2  -1.587021 -2.200154  1.368234 -1.030029 -0.525657 -0.867655  0.344407   \n",
       "3  -2.178174 -0.812191 -0.791989 -1.030029 -0.525657 -0.867655 -1.047571   \n",
       "4  -0.510513 -0.461218 -0.251933 -1.030029 -0.525657 -0.867655 -1.047571   \n",
       "..       ...       ...       ...       ...       ...       ...       ...   \n",
       "90  1.617422  1.109520  0.558151 -1.030029 -0.525657 -0.867655 -1.047571   \n",
       "91  1.008835  0.114086 -0.386947  0.864484  1.902379 -0.867655  0.344407   \n",
       "92  1.262444  0.580608  0.558151 -1.030029  1.902379  1.079149  0.344407   \n",
       "93  2.107397  0.628738 -2.682185 -1.030029  1.902379  1.688267  0.344407   \n",
       "95  1.307045  0.340141  0.558151  1.010033  1.902379  1.249088  0.344407   \n",
       "\n",
       "       pgg45      lpsa train  \n",
       "0  -0.868957 -0.430783     T  \n",
       "1  -0.868957 -0.162519     T  \n",
       "2  -0.156155 -0.162519     T  \n",
       "3  -0.868957 -0.162519     T  \n",
       "4  -0.868957  0.371564     T  \n",
       "..       ...       ...   ...  \n",
       "90 -0.868957  4.029806     T  \n",
       "91 -0.334356  4.129551     T  \n",
       "92  1.269449  4.385147     T  \n",
       "93  0.556647  4.684443     T  \n",
       "95  1.982251  5.477509     T  \n",
       "\n",
       "[67 rows x 10 columns]"
      ]
     },
     "execution_count": 20,
     "metadata": {},
     "output_type": "execute_result"
    }
   ],
   "source": [
    "#b)divisão dos dados em treino e teste\n",
    "#parcela de treino\n",
    "dfs_train = df_std.loc[df_std['train'] == 'T']\n",
    "dfs_train"
   ]
  },
  {
   "cell_type": "code",
   "execution_count": 21,
   "id": "793d1dff",
   "metadata": {},
   "outputs": [
    {
     "data": {
      "text/html": [
       "<div>\n",
       "<style scoped>\n",
       "    .dataframe tbody tr th:only-of-type {\n",
       "        vertical-align: middle;\n",
       "    }\n",
       "\n",
       "    .dataframe tbody tr th {\n",
       "        vertical-align: top;\n",
       "    }\n",
       "\n",
       "    .dataframe thead th {\n",
       "        text-align: right;\n",
       "    }\n",
       "</style>\n",
       "<table border=\"1\" class=\"dataframe\">\n",
       "  <thead>\n",
       "    <tr style=\"text-align: right;\">\n",
       "      <th></th>\n",
       "      <th>lcavol</th>\n",
       "      <th>lweight</th>\n",
       "      <th>age</th>\n",
       "      <th>lbph</th>\n",
       "      <th>svi</th>\n",
       "      <th>lcp</th>\n",
       "      <th>gleason</th>\n",
       "      <th>pgg45</th>\n",
       "      <th>lpsa</th>\n",
       "    </tr>\n",
       "  </thead>\n",
       "  <tbody>\n",
       "    <tr>\n",
       "      <th>count</th>\n",
       "      <td>67.000000</td>\n",
       "      <td>67.000000</td>\n",
       "      <td>67.000000</td>\n",
       "      <td>67.000000</td>\n",
       "      <td>67.000000</td>\n",
       "      <td>67.000000</td>\n",
       "      <td>67.000000</td>\n",
       "      <td>67.000000</td>\n",
       "      <td>67.000000</td>\n",
       "    </tr>\n",
       "    <tr>\n",
       "      <th>mean</th>\n",
       "      <td>-0.031145</td>\n",
       "      <td>-0.006652</td>\n",
       "      <td>0.118851</td>\n",
       "      <td>-0.020034</td>\n",
       "      <td>0.017933</td>\n",
       "      <td>-0.025044</td>\n",
       "      <td>-0.029557</td>\n",
       "      <td>0.067260</td>\n",
       "      <td>2.452345</td>\n",
       "    </tr>\n",
       "    <tr>\n",
       "      <th>std</th>\n",
       "      <td>1.059748</td>\n",
       "      <td>1.118263</td>\n",
       "      <td>1.012903</td>\n",
       "      <td>1.014097</td>\n",
       "      <td>1.019749</td>\n",
       "      <td>1.006982</td>\n",
       "      <td>0.986723</td>\n",
       "      <td>1.044318</td>\n",
       "      <td>1.207812</td>\n",
       "    </tr>\n",
       "    <tr>\n",
       "      <th>min</th>\n",
       "      <td>-2.300218</td>\n",
       "      <td>-2.942386</td>\n",
       "      <td>-3.087227</td>\n",
       "      <td>-1.030029</td>\n",
       "      <td>-0.525657</td>\n",
       "      <td>-0.867655</td>\n",
       "      <td>-1.047571</td>\n",
       "      <td>-0.868957</td>\n",
       "      <td>-0.430783</td>\n",
       "    </tr>\n",
       "    <tr>\n",
       "      <th>25%</th>\n",
       "      <td>-0.734930</td>\n",
       "      <td>-0.700575</td>\n",
       "      <td>-0.386947</td>\n",
       "      <td>-1.030029</td>\n",
       "      <td>-0.525657</td>\n",
       "      <td>-0.867655</td>\n",
       "      <td>-1.047571</td>\n",
       "      <td>-0.868957</td>\n",
       "      <td>1.667306</td>\n",
       "    </tr>\n",
       "    <tr>\n",
       "      <th>50%</th>\n",
       "      <td>0.100521</td>\n",
       "      <td>-0.071004</td>\n",
       "      <td>0.153109</td>\n",
       "      <td>-0.105070</td>\n",
       "      <td>-0.525657</td>\n",
       "      <td>-0.445098</td>\n",
       "      <td>0.344407</td>\n",
       "      <td>-0.334356</td>\n",
       "      <td>2.568788</td>\n",
       "    </tr>\n",
       "    <tr>\n",
       "      <th>75%</th>\n",
       "      <td>0.852048</td>\n",
       "      <td>0.597534</td>\n",
       "      <td>0.693165</td>\n",
       "      <td>1.002662</td>\n",
       "      <td>-0.525657</td>\n",
       "      <td>0.844097</td>\n",
       "      <td>0.344407</td>\n",
       "      <td>0.913048</td>\n",
       "      <td>3.365188</td>\n",
       "    </tr>\n",
       "    <tr>\n",
       "      <th>max</th>\n",
       "      <td>2.107397</td>\n",
       "      <td>2.701661</td>\n",
       "      <td>2.043304</td>\n",
       "      <td>1.542252</td>\n",
       "      <td>1.902379</td>\n",
       "      <td>2.038875</td>\n",
       "      <td>3.128363</td>\n",
       "      <td>2.695054</td>\n",
       "      <td>5.477509</td>\n",
       "    </tr>\n",
       "  </tbody>\n",
       "</table>\n",
       "</div>"
      ],
      "text/plain": [
       "          lcavol    lweight        age       lbph        svi        lcp  \\\n",
       "count  67.000000  67.000000  67.000000  67.000000  67.000000  67.000000   \n",
       "mean   -0.031145  -0.006652   0.118851  -0.020034   0.017933  -0.025044   \n",
       "std     1.059748   1.118263   1.012903   1.014097   1.019749   1.006982   \n",
       "min    -2.300218  -2.942386  -3.087227  -1.030029  -0.525657  -0.867655   \n",
       "25%    -0.734930  -0.700575  -0.386947  -1.030029  -0.525657  -0.867655   \n",
       "50%     0.100521  -0.071004   0.153109  -0.105070  -0.525657  -0.445098   \n",
       "75%     0.852048   0.597534   0.693165   1.002662  -0.525657   0.844097   \n",
       "max     2.107397   2.701661   2.043304   1.542252   1.902379   2.038875   \n",
       "\n",
       "         gleason      pgg45       lpsa  \n",
       "count  67.000000  67.000000  67.000000  \n",
       "mean   -0.029557   0.067260   2.452345  \n",
       "std     0.986723   1.044318   1.207812  \n",
       "min    -1.047571  -0.868957  -0.430783  \n",
       "25%    -1.047571  -0.868957   1.667306  \n",
       "50%     0.344407  -0.334356   2.568788  \n",
       "75%     0.344407   0.913048   3.365188  \n",
       "max     3.128363   2.695054   5.477509  "
      ]
     },
     "execution_count": 21,
     "metadata": {},
     "output_type": "execute_result"
    }
   ],
   "source": [
    "dfs_train.describe()"
   ]
  },
  {
   "cell_type": "code",
   "execution_count": 22,
   "id": "a9532938",
   "metadata": {},
   "outputs": [
    {
     "data": {
      "text/plain": [
       "(30, 10)"
      ]
     },
     "execution_count": 22,
     "metadata": {},
     "output_type": "execute_result"
    }
   ],
   "source": [
    "#parcela de teste\n",
    "dfs_test = df_std.loc[df_std['train'] == 'F']\n",
    "dfs_test.shape"
   ]
  },
  {
   "cell_type": "code",
   "execution_count": 23,
   "id": "1a570f4c",
   "metadata": {},
   "outputs": [
    {
     "data": {
      "text/html": [
       "<div>\n",
       "<style scoped>\n",
       "    .dataframe tbody tr th:only-of-type {\n",
       "        vertical-align: middle;\n",
       "    }\n",
       "\n",
       "    .dataframe tbody tr th {\n",
       "        vertical-align: top;\n",
       "    }\n",
       "\n",
       "    .dataframe thead th {\n",
       "        text-align: right;\n",
       "    }\n",
       "</style>\n",
       "<table border=\"1\" class=\"dataframe\">\n",
       "  <thead>\n",
       "    <tr style=\"text-align: right;\">\n",
       "      <th></th>\n",
       "      <th>lcavol</th>\n",
       "      <th>lweight</th>\n",
       "      <th>age</th>\n",
       "      <th>lbph</th>\n",
       "      <th>svi</th>\n",
       "      <th>lcp</th>\n",
       "      <th>gleason</th>\n",
       "      <th>pgg45</th>\n",
       "      <th>lpsa</th>\n",
       "    </tr>\n",
       "  </thead>\n",
       "  <tbody>\n",
       "    <tr>\n",
       "      <th>count</th>\n",
       "      <td>30.000000</td>\n",
       "      <td>30.000000</td>\n",
       "      <td>30.000000</td>\n",
       "      <td>30.000000</td>\n",
       "      <td>30.000000</td>\n",
       "      <td>30.000000</td>\n",
       "      <td>30.000000</td>\n",
       "      <td>30.000000</td>\n",
       "      <td>30.000000</td>\n",
       "    </tr>\n",
       "    <tr>\n",
       "      <th>mean</th>\n",
       "      <td>0.069556</td>\n",
       "      <td>0.014856</td>\n",
       "      <td>-0.265435</td>\n",
       "      <td>0.044743</td>\n",
       "      <td>-0.040050</td>\n",
       "      <td>0.055933</td>\n",
       "      <td>0.066011</td>\n",
       "      <td>-0.150215</td>\n",
       "      <td>2.536547</td>\n",
       "    </tr>\n",
       "    <tr>\n",
       "      <th>std</th>\n",
       "      <td>0.884103</td>\n",
       "      <td>0.706046</td>\n",
       "      <td>0.950966</td>\n",
       "      <td>1.000675</td>\n",
       "      <td>0.987818</td>\n",
       "      <td>1.016066</td>\n",
       "      <td>1.059468</td>\n",
       "      <td>0.910482</td>\n",
       "      <td>1.042035</td>\n",
       "    </tr>\n",
       "    <tr>\n",
       "      <th>min</th>\n",
       "      <td>-1.813627</td>\n",
       "      <td>-1.792336</td>\n",
       "      <td>-2.817199</td>\n",
       "      <td>-1.030029</td>\n",
       "      <td>-0.525657</td>\n",
       "      <td>-0.867655</td>\n",
       "      <td>-1.047571</td>\n",
       "      <td>-0.868957</td>\n",
       "      <td>0.765468</td>\n",
       "    </tr>\n",
       "    <tr>\n",
       "      <th>25%</th>\n",
       "      <td>-0.472052</td>\n",
       "      <td>-0.350304</td>\n",
       "      <td>-0.521961</td>\n",
       "      <td>-1.030029</td>\n",
       "      <td>-0.525657</td>\n",
       "      <td>-0.867655</td>\n",
       "      <td>-1.047571</td>\n",
       "      <td>-0.868957</td>\n",
       "      <td>1.864393</td>\n",
       "    </tr>\n",
       "    <tr>\n",
       "      <th>50%</th>\n",
       "      <td>0.080638</td>\n",
       "      <td>0.050617</td>\n",
       "      <td>0.018095</td>\n",
       "      <td>0.234114</td>\n",
       "      <td>-0.525657</td>\n",
       "      <td>-0.180743</td>\n",
       "      <td>0.344407</td>\n",
       "      <td>-0.583836</td>\n",
       "      <td>2.591516</td>\n",
       "    </tr>\n",
       "    <tr>\n",
       "      <th>75%</th>\n",
       "      <td>0.599638</td>\n",
       "      <td>0.490136</td>\n",
       "      <td>0.524397</td>\n",
       "      <td>1.020164</td>\n",
       "      <td>-0.525657</td>\n",
       "      <td>0.910185</td>\n",
       "      <td>0.344407</td>\n",
       "      <td>0.378447</td>\n",
       "      <td>2.882004</td>\n",
       "    </tr>\n",
       "    <tr>\n",
       "      <th>max</th>\n",
       "      <td>1.809719</td>\n",
       "      <td>1.155640</td>\n",
       "      <td>0.828178</td>\n",
       "      <td>1.434884</td>\n",
       "      <td>1.902379</td>\n",
       "      <td>2.216735</td>\n",
       "      <td>3.128363</td>\n",
       "      <td>2.338652</td>\n",
       "      <td>5.582932</td>\n",
       "    </tr>\n",
       "  </tbody>\n",
       "</table>\n",
       "</div>"
      ],
      "text/plain": [
       "          lcavol    lweight        age       lbph        svi        lcp  \\\n",
       "count  30.000000  30.000000  30.000000  30.000000  30.000000  30.000000   \n",
       "mean    0.069556   0.014856  -0.265435   0.044743  -0.040050   0.055933   \n",
       "std     0.884103   0.706046   0.950966   1.000675   0.987818   1.016066   \n",
       "min    -1.813627  -1.792336  -2.817199  -1.030029  -0.525657  -0.867655   \n",
       "25%    -0.472052  -0.350304  -0.521961  -1.030029  -0.525657  -0.867655   \n",
       "50%     0.080638   0.050617   0.018095   0.234114  -0.525657  -0.180743   \n",
       "75%     0.599638   0.490136   0.524397   1.020164  -0.525657   0.910185   \n",
       "max     1.809719   1.155640   0.828178   1.434884   1.902379   2.216735   \n",
       "\n",
       "         gleason      pgg45       lpsa  \n",
       "count  30.000000  30.000000  30.000000  \n",
       "mean    0.066011  -0.150215   2.536547  \n",
       "std     1.059468   0.910482   1.042035  \n",
       "min    -1.047571  -0.868957   0.765468  \n",
       "25%    -1.047571  -0.868957   1.864393  \n",
       "50%     0.344407  -0.583836   2.591516  \n",
       "75%     0.344407   0.378447   2.882004  \n",
       "max     3.128363   2.338652   5.582932  "
      ]
     },
     "execution_count": 23,
     "metadata": {},
     "output_type": "execute_result"
    }
   ],
   "source": [
    "dfs_test.describe()"
   ]
  },
  {
   "cell_type": "code",
   "execution_count": 24,
   "id": "98ee4999",
   "metadata": {},
   "outputs": [],
   "source": [
    "#organiza dados de entrada e saída do treinamento: 67 registros\n",
    "X_train = dfs_train.iloc[:,:8].to_numpy()\n",
    "y_train = dfs_train.iloc[:,8:9].to_numpy().reshape(67)\n",
    "\n",
    "#organiza dados de entrada e saída de teste: 30 registros\n",
    "X_test = dfs_test.iloc[:,:8].to_numpy()\n",
    "y_test = dfs_test.iloc[:,8:9].to_numpy().reshape(30)"
   ]
  },
  {
   "cell_type": "code",
   "execution_count": 25,
   "id": "50672711",
   "metadata": {},
   "outputs": [
    {
     "name": "stdout",
     "output_type": "stream",
     "text": [
      "(67, 8) (30, 8)\n",
      "(67,) (30,)\n"
     ]
    }
   ],
   "source": [
    "#verificação das dimensões dos datasets de treino e teste\n",
    "print(X_train.shape, X_test.shape)\n",
    "print(y_train.shape, y_test.shape)"
   ]
  },
  {
   "cell_type": "markdown",
   "id": "1ea53515",
   "metadata": {},
   "source": [
    "### Modelos não regularizados"
   ]
  },
  {
   "cell_type": "raw",
   "id": "caad5deb",
   "metadata": {},
   "source": [
    "MODELO LINEAR"
   ]
  },
  {
   "cell_type": "code",
   "execution_count": 26,
   "id": "5674e7b1",
   "metadata": {},
   "outputs": [
    {
     "data": {
      "text/html": [
       "<style>#sk-container-id-2 {color: black;background-color: white;}#sk-container-id-2 pre{padding: 0;}#sk-container-id-2 div.sk-toggleable {background-color: white;}#sk-container-id-2 label.sk-toggleable__label {cursor: pointer;display: block;width: 100%;margin-bottom: 0;padding: 0.3em;box-sizing: border-box;text-align: center;}#sk-container-id-2 label.sk-toggleable__label-arrow:before {content: \"▸\";float: left;margin-right: 0.25em;color: #696969;}#sk-container-id-2 label.sk-toggleable__label-arrow:hover:before {color: black;}#sk-container-id-2 div.sk-estimator:hover label.sk-toggleable__label-arrow:before {color: black;}#sk-container-id-2 div.sk-toggleable__content {max-height: 0;max-width: 0;overflow: hidden;text-align: left;background-color: #f0f8ff;}#sk-container-id-2 div.sk-toggleable__content pre {margin: 0.2em;color: black;border-radius: 0.25em;background-color: #f0f8ff;}#sk-container-id-2 input.sk-toggleable__control:checked~div.sk-toggleable__content {max-height: 200px;max-width: 100%;overflow: auto;}#sk-container-id-2 input.sk-toggleable__control:checked~label.sk-toggleable__label-arrow:before {content: \"▾\";}#sk-container-id-2 div.sk-estimator input.sk-toggleable__control:checked~label.sk-toggleable__label {background-color: #d4ebff;}#sk-container-id-2 div.sk-label input.sk-toggleable__control:checked~label.sk-toggleable__label {background-color: #d4ebff;}#sk-container-id-2 input.sk-hidden--visually {border: 0;clip: rect(1px 1px 1px 1px);clip: rect(1px, 1px, 1px, 1px);height: 1px;margin: -1px;overflow: hidden;padding: 0;position: absolute;width: 1px;}#sk-container-id-2 div.sk-estimator {font-family: monospace;background-color: #f0f8ff;border: 1px dotted black;border-radius: 0.25em;box-sizing: border-box;margin-bottom: 0.5em;}#sk-container-id-2 div.sk-estimator:hover {background-color: #d4ebff;}#sk-container-id-2 div.sk-parallel-item::after {content: \"\";width: 100%;border-bottom: 1px solid gray;flex-grow: 1;}#sk-container-id-2 div.sk-label:hover label.sk-toggleable__label {background-color: #d4ebff;}#sk-container-id-2 div.sk-serial::before {content: \"\";position: absolute;border-left: 1px solid gray;box-sizing: border-box;top: 0;bottom: 0;left: 50%;z-index: 0;}#sk-container-id-2 div.sk-serial {display: flex;flex-direction: column;align-items: center;background-color: white;padding-right: 0.2em;padding-left: 0.2em;position: relative;}#sk-container-id-2 div.sk-item {position: relative;z-index: 1;}#sk-container-id-2 div.sk-parallel {display: flex;align-items: stretch;justify-content: center;background-color: white;position: relative;}#sk-container-id-2 div.sk-item::before, #sk-container-id-2 div.sk-parallel-item::before {content: \"\";position: absolute;border-left: 1px solid gray;box-sizing: border-box;top: 0;bottom: 0;left: 50%;z-index: -1;}#sk-container-id-2 div.sk-parallel-item {display: flex;flex-direction: column;z-index: 1;position: relative;background-color: white;}#sk-container-id-2 div.sk-parallel-item:first-child::after {align-self: flex-end;width: 50%;}#sk-container-id-2 div.sk-parallel-item:last-child::after {align-self: flex-start;width: 50%;}#sk-container-id-2 div.sk-parallel-item:only-child::after {width: 0;}#sk-container-id-2 div.sk-dashed-wrapped {border: 1px dashed gray;margin: 0 0.4em 0.5em 0.4em;box-sizing: border-box;padding-bottom: 0.4em;background-color: white;}#sk-container-id-2 div.sk-label label {font-family: monospace;font-weight: bold;display: inline-block;line-height: 1.2em;}#sk-container-id-2 div.sk-label-container {text-align: center;}#sk-container-id-2 div.sk-container {/* jupyter's `normalize.less` sets `[hidden] { display: none; }` but bootstrap.min.css set `[hidden] { display: none !important; }` so we also need the `!important` here to be able to override the default hidden behavior on the sphinx rendered scikit-learn.org. See: https://github.com/scikit-learn/scikit-learn/issues/21755 */display: inline-block !important;position: relative;}#sk-container-id-2 div.sk-text-repr-fallback {display: none;}</style><div id=\"sk-container-id-2\" class=\"sk-top-container\"><div class=\"sk-text-repr-fallback\"><pre>LinearRegression()</pre><b>In a Jupyter environment, please rerun this cell to show the HTML representation or trust the notebook. <br />On GitHub, the HTML representation is unable to render, please try loading this page with nbviewer.org.</b></div><div class=\"sk-container\" hidden><div class=\"sk-item\"><div class=\"sk-estimator sk-toggleable\"><input class=\"sk-toggleable__control sk-hidden--visually\" id=\"sk-estimator-id-2\" type=\"checkbox\" checked><label for=\"sk-estimator-id-2\" class=\"sk-toggleable__label sk-toggleable__label-arrow\">LinearRegression</label><div class=\"sk-toggleable__content\"><pre>LinearRegression()</pre></div></div></div></div></div>"
      ],
      "text/plain": [
       "LinearRegression()"
      ]
     },
     "execution_count": 26,
     "metadata": {},
     "output_type": "execute_result"
    }
   ],
   "source": [
    "#c)Treinamento - seleção de modelos\n",
    "#Modelo linear\n",
    "modelo = LinearRegression()\n",
    "modelo.fit(X_train, y_train)"
   ]
  },
  {
   "cell_type": "code",
   "execution_count": 27,
   "id": "aac88cad",
   "metadata": {},
   "outputs": [
    {
     "name": "stdout",
     "output_type": "stream",
     "text": [
      "Erro treino: 0.6943711796768238\n",
      "Erro teste: 0.503379850238181\n"
     ]
    }
   ],
   "source": [
    "# Visualizar R^2 (Coeficiente de determinação)\n",
    "print('Erro treino:', modelo.score(X_train, y_train))\n",
    "print('Erro teste:', modelo.score(X_test, y_test))"
   ]
  },
  {
   "cell_type": "code",
   "execution_count": 28,
   "id": "131bab16",
   "metadata": {},
   "outputs": [],
   "source": [
    "#predicoes\n",
    "predt = modelo.predict(X_train)   #predicao dados de treinamento\n",
    "pred = modelo.predict(X_test)     #predicao dados de teste"
   ]
  },
  {
   "cell_type": "code",
   "execution_count": 29,
   "id": "15a0c90d",
   "metadata": {},
   "outputs": [
    {
     "name": "stdout",
     "output_type": "stream",
     "text": [
      "Erro treino: 0.6943711796768238\n",
      "Erro teste: 0.503379850238181\n"
     ]
    }
   ],
   "source": [
    "# Visualizar R^2 - função r2_score (Coeficiente de determinação) - verificação se é a mesma coisa do \"score\"\n",
    "#r2_score(y_true, y_pred)\n",
    "print('Erro treino:', r2_score(y_train, predt))\n",
    "print('Erro teste:', r2_score(y_test, pred))"
   ]
  },
  {
   "cell_type": "code",
   "execution_count": 30,
   "id": "358aeba3",
   "metadata": {},
   "outputs": [
    {
     "name": "stdout",
     "output_type": "stream",
     "text": [
      "MSE treino: 0.43919976805833433\n",
      "MSE teste: 0.5212740055076001\n"
     ]
    }
   ],
   "source": [
    "#MSE\n",
    "print('MSE treino:', mean_squared_error(y_train, predt))\n",
    "print('MSE teste:', mean_squared_error(y_test, pred))"
   ]
  },
  {
   "cell_type": "code",
   "execution_count": 31,
   "id": "36c08167",
   "metadata": {},
   "outputs": [
    {
     "data": {
      "image/png": "[encoded data removed]",
      "text/plain": [
       "<Figure size 640x480 with 1 Axes>"
      ]
     },
     "metadata": {},
     "output_type": "display_data"
    }
   ],
   "source": [
    "# Plot Resultados\n",
    "plt.scatter(y_test , pred , color=\"green\", linewidth=2, label = \"Teste\")\n",
    "plt.scatter(y_train , predt , color=\"red\", linewidth=2, label = \"Treinamento\")\n",
    "plt.xlabel(\"Target - dados da tabela\")\n",
    "plt.ylabel(\"Predição - modelo LS\")\n",
    "plt.legend()\n",
    "plt.title(\"Regressão Linear Regression\")\n",
    "plt.show()"
   ]
  },
  {
   "cell_type": "raw",
   "id": "fd40aa15",
   "metadata": {},
   "source": [
    "MODELO SGD (sem regularização)"
   ]
  },
  {
   "cell_type": "code",
   "execution_count": 32,
   "id": "06a0f836",
   "metadata": {},
   "outputs": [
    {
     "data": {
      "text/html": [
       "<style>#sk-container-id-3 {color: black;background-color: white;}#sk-container-id-3 pre{padding: 0;}#sk-container-id-3 div.sk-toggleable {background-color: white;}#sk-container-id-3 label.sk-toggleable__label {cursor: pointer;display: block;width: 100%;margin-bottom: 0;padding: 0.3em;box-sizing: border-box;text-align: center;}#sk-container-id-3 label.sk-toggleable__label-arrow:before {content: \"▸\";float: left;margin-right: 0.25em;color: #696969;}#sk-container-id-3 label.sk-toggleable__label-arrow:hover:before {color: black;}#sk-container-id-3 div.sk-estimator:hover label.sk-toggleable__label-arrow:before {color: black;}#sk-container-id-3 div.sk-toggleable__content {max-height: 0;max-width: 0;overflow: hidden;text-align: left;background-color: #f0f8ff;}#sk-container-id-3 div.sk-toggleable__content pre {margin: 0.2em;color: black;border-radius: 0.25em;background-color: #f0f8ff;}#sk-container-id-3 input.sk-toggleable__control:checked~div.sk-toggleable__content {max-height: 200px;max-width: 100%;overflow: auto;}#sk-container-id-3 input.sk-toggleable__control:checked~label.sk-toggleable__label-arrow:before {content: \"▾\";}#sk-container-id-3 div.sk-estimator input.sk-toggleable__control:checked~label.sk-toggleable__label {background-color: #d4ebff;}#sk-container-id-3 div.sk-label input.sk-toggleable__control:checked~label.sk-toggleable__label {background-color: #d4ebff;}#sk-container-id-3 input.sk-hidden--visually {border: 0;clip: rect(1px 1px 1px 1px);clip: rect(1px, 1px, 1px, 1px);height: 1px;margin: -1px;overflow: hidden;padding: 0;position: absolute;width: 1px;}#sk-container-id-3 div.sk-estimator {font-family: monospace;background-color: #f0f8ff;border: 1px dotted black;border-radius: 0.25em;box-sizing: border-box;margin-bottom: 0.5em;}#sk-container-id-3 div.sk-estimator:hover {background-color: #d4ebff;}#sk-container-id-3 div.sk-parallel-item::after {content: \"\";width: 100%;border-bottom: 1px solid gray;flex-grow: 1;}#sk-container-id-3 div.sk-label:hover label.sk-toggleable__label {background-color: #d4ebff;}#sk-container-id-3 div.sk-serial::before {content: \"\";position: absolute;border-left: 1px solid gray;box-sizing: border-box;top: 0;bottom: 0;left: 50%;z-index: 0;}#sk-container-id-3 div.sk-serial {display: flex;flex-direction: column;align-items: center;background-color: white;padding-right: 0.2em;padding-left: 0.2em;position: relative;}#sk-container-id-3 div.sk-item {position: relative;z-index: 1;}#sk-container-id-3 div.sk-parallel {display: flex;align-items: stretch;justify-content: center;background-color: white;position: relative;}#sk-container-id-3 div.sk-item::before, #sk-container-id-3 div.sk-parallel-item::before {content: \"\";position: absolute;border-left: 1px solid gray;box-sizing: border-box;top: 0;bottom: 0;left: 50%;z-index: -1;}#sk-container-id-3 div.sk-parallel-item {display: flex;flex-direction: column;z-index: 1;position: relative;background-color: white;}#sk-container-id-3 div.sk-parallel-item:first-child::after {align-self: flex-end;width: 50%;}#sk-container-id-3 div.sk-parallel-item:last-child::after {align-self: flex-start;width: 50%;}#sk-container-id-3 div.sk-parallel-item:only-child::after {width: 0;}#sk-container-id-3 div.sk-dashed-wrapped {border: 1px dashed gray;margin: 0 0.4em 0.5em 0.4em;box-sizing: border-box;padding-bottom: 0.4em;background-color: white;}#sk-container-id-3 div.sk-label label {font-family: monospace;font-weight: bold;display: inline-block;line-height: 1.2em;}#sk-container-id-3 div.sk-label-container {text-align: center;}#sk-container-id-3 div.sk-container {/* jupyter's `normalize.less` sets `[hidden] { display: none; }` but bootstrap.min.css set `[hidden] { display: none !important; }` so we also need the `!important` here to be able to override the default hidden behavior on the sphinx rendered scikit-learn.org. See: https://github.com/scikit-learn/scikit-learn/issues/21755 */display: inline-block !important;position: relative;}#sk-container-id-3 div.sk-text-repr-fallback {display: none;}</style><div id=\"sk-container-id-3\" class=\"sk-top-container\"><div class=\"sk-text-repr-fallback\"><pre>SGDRegressor(penalty=None)</pre><b>In a Jupyter environment, please rerun this cell to show the HTML representation or trust the notebook. <br />On GitHub, the HTML representation is unable to render, please try loading this page with nbviewer.org.</b></div><div class=\"sk-container\" hidden><div class=\"sk-item\"><div class=\"sk-estimator sk-toggleable\"><input class=\"sk-toggleable__control sk-hidden--visually\" id=\"sk-estimator-id-3\" type=\"checkbox\" checked><label for=\"sk-estimator-id-3\" class=\"sk-toggleable__label sk-toggleable__label-arrow\">SGDRegressor</label><div class=\"sk-toggleable__content\"><pre>SGDRegressor(penalty=None)</pre></div></div></div></div></div>"
      ],
      "text/plain": [
       "SGDRegressor(penalty=None)"
      ]
     },
     "execution_count": 32,
     "metadata": {},
     "output_type": "execute_result"
    }
   ],
   "source": [
    "#Gradiente descendente estocástico\n",
    "modeloSGD = SGDRegressor(loss='squared_error', penalty=None) \n",
    "modeloSGD.fit(X_train, y_train)"
   ]
  },
  {
   "cell_type": "code",
   "execution_count": 33,
   "id": "747d85d2",
   "metadata": {},
   "outputs": [
    {
     "name": "stdout",
     "output_type": "stream",
     "text": [
      "Erro treino: 0.6838060272524872\n",
      "Erro teste: 0.5189531730331597\n"
     ]
    }
   ],
   "source": [
    "# Visualizar R^2\n",
    "print('Erro treino:', modeloSGD.score(X_train, y_train))\n",
    "print('Erro teste:', modeloSGD.score(X_test, y_test))"
   ]
  },
  {
   "cell_type": "code",
   "execution_count": 34,
   "id": "a8c1ed4e",
   "metadata": {},
   "outputs": [],
   "source": [
    "predt = modeloSGD.predict(X_train)   #predicao dados de treinamento\n",
    "pred = modeloSGD.predict(X_test)     #predicao dados de teste"
   ]
  },
  {
   "cell_type": "code",
   "execution_count": 35,
   "id": "b318b3f5",
   "metadata": {},
   "outputs": [
    {
     "name": "stdout",
     "output_type": "stream",
     "text": [
      "Erro treino: 0.6838060272524872\n",
      "Erro teste: 0.5189531730331597\n"
     ]
    }
   ],
   "source": [
    "# Visualizar R^2 - função r2_score\n",
    "#r2_score(y_true, y_pred)\n",
    "print('Erro treino:', r2_score(y_train, predt))\n",
    "print('Erro teste:', r2_score(y_test, pred))"
   ]
  },
  {
   "cell_type": "code",
   "execution_count": 36,
   "id": "f12d5c17",
   "metadata": {},
   "outputs": [
    {
     "name": "stdout",
     "output_type": "stream",
     "text": [
      "MSE treino: 0.4543822776441874\n",
      "MSE teste: 0.5049275718071253\n"
     ]
    }
   ],
   "source": [
    "#MSE\n",
    "print('MSE treino:', mean_squared_error(y_train, predt))\n",
    "print('MSE teste:', mean_squared_error(y_test, pred))"
   ]
  },
  {
   "cell_type": "code",
   "execution_count": 37,
   "id": "e79f30fc",
   "metadata": {},
   "outputs": [
    {
     "data": {
      "image/png": "[encoded data removed]",
      "text/plain": [
       "<Figure size 640x480 with 1 Axes>"
      ]
     },
     "metadata": {},
     "output_type": "display_data"
    }
   ],
   "source": [
    "# Plot Resultados\n",
    "plt.scatter(y_test , pred , color=\"green\", linewidth=2, label = \"Teste\")\n",
    "plt.scatter(y_train , predt , color=\"red\", linewidth=2, label = \"Treinamento\")\n",
    "plt.xlabel(\"Target - dados da tabela\")\n",
    "plt.ylabel(\"Predição - modelo LS\")\n",
    "plt.legend()\n",
    "plt.title(\"Regressão SGD linear\")\n",
    "plt.show()"
   ]
  },
  {
   "cell_type": "raw",
   "id": "95a0752b",
   "metadata": {},
   "source": [
    "REGRESSOR HUBER (NÃO REGULARIZADO)"
   ]
  },
  {
   "cell_type": "code",
   "execution_count": 38,
   "id": "382d44cc",
   "metadata": {},
   "outputs": [
    {
     "data": {
      "text/html": [
       "<style>#sk-container-id-4 {color: black;background-color: white;}#sk-container-id-4 pre{padding: 0;}#sk-container-id-4 div.sk-toggleable {background-color: white;}#sk-container-id-4 label.sk-toggleable__label {cursor: pointer;display: block;width: 100%;margin-bottom: 0;padding: 0.3em;box-sizing: border-box;text-align: center;}#sk-container-id-4 label.sk-toggleable__label-arrow:before {content: \"▸\";float: left;margin-right: 0.25em;color: #696969;}#sk-container-id-4 label.sk-toggleable__label-arrow:hover:before {color: black;}#sk-container-id-4 div.sk-estimator:hover label.sk-toggleable__label-arrow:before {color: black;}#sk-container-id-4 div.sk-toggleable__content {max-height: 0;max-width: 0;overflow: hidden;text-align: left;background-color: #f0f8ff;}#sk-container-id-4 div.sk-toggleable__content pre {margin: 0.2em;color: black;border-radius: 0.25em;background-color: #f0f8ff;}#sk-container-id-4 input.sk-toggleable__control:checked~div.sk-toggleable__content {max-height: 200px;max-width: 100%;overflow: auto;}#sk-container-id-4 input.sk-toggleable__control:checked~label.sk-toggleable__label-arrow:before {content: \"▾\";}#sk-container-id-4 div.sk-estimator input.sk-toggleable__control:checked~label.sk-toggleable__label {background-color: #d4ebff;}#sk-container-id-4 div.sk-label input.sk-toggleable__control:checked~label.sk-toggleable__label {background-color: #d4ebff;}#sk-container-id-4 input.sk-hidden--visually {border: 0;clip: rect(1px 1px 1px 1px);clip: rect(1px, 1px, 1px, 1px);height: 1px;margin: -1px;overflow: hidden;padding: 0;position: absolute;width: 1px;}#sk-container-id-4 div.sk-estimator {font-family: monospace;background-color: #f0f8ff;border: 1px dotted black;border-radius: 0.25em;box-sizing: border-box;margin-bottom: 0.5em;}#sk-container-id-4 div.sk-estimator:hover {background-color: #d4ebff;}#sk-container-id-4 div.sk-parallel-item::after {content: \"\";width: 100%;border-bottom: 1px solid gray;flex-grow: 1;}#sk-container-id-4 div.sk-label:hover label.sk-toggleable__label {background-color: #d4ebff;}#sk-container-id-4 div.sk-serial::before {content: \"\";position: absolute;border-left: 1px solid gray;box-sizing: border-box;top: 0;bottom: 0;left: 50%;z-index: 0;}#sk-container-id-4 div.sk-serial {display: flex;flex-direction: column;align-items: center;background-color: white;padding-right: 0.2em;padding-left: 0.2em;position: relative;}#sk-container-id-4 div.sk-item {position: relative;z-index: 1;}#sk-container-id-4 div.sk-parallel {display: flex;align-items: stretch;justify-content: center;background-color: white;position: relative;}#sk-container-id-4 div.sk-item::before, #sk-container-id-4 div.sk-parallel-item::before {content: \"\";position: absolute;border-left: 1px solid gray;box-sizing: border-box;top: 0;bottom: 0;left: 50%;z-index: -1;}#sk-container-id-4 div.sk-parallel-item {display: flex;flex-direction: column;z-index: 1;position: relative;background-color: white;}#sk-container-id-4 div.sk-parallel-item:first-child::after {align-self: flex-end;width: 50%;}#sk-container-id-4 div.sk-parallel-item:last-child::after {align-self: flex-start;width: 50%;}#sk-container-id-4 div.sk-parallel-item:only-child::after {width: 0;}#sk-container-id-4 div.sk-dashed-wrapped {border: 1px dashed gray;margin: 0 0.4em 0.5em 0.4em;box-sizing: border-box;padding-bottom: 0.4em;background-color: white;}#sk-container-id-4 div.sk-label label {font-family: monospace;font-weight: bold;display: inline-block;line-height: 1.2em;}#sk-container-id-4 div.sk-label-container {text-align: center;}#sk-container-id-4 div.sk-container {/* jupyter's `normalize.less` sets `[hidden] { display: none; }` but bootstrap.min.css set `[hidden] { display: none !important; }` so we also need the `!important` here to be able to override the default hidden behavior on the sphinx rendered scikit-learn.org. See: https://github.com/scikit-learn/scikit-learn/issues/21755 */display: inline-block !important;position: relative;}#sk-container-id-4 div.sk-text-repr-fallback {display: none;}</style><div id=\"sk-container-id-4\" class=\"sk-top-container\"><div class=\"sk-text-repr-fallback\"><pre>HuberRegressor(alpha=0.0, epsilon=1)</pre><b>In a Jupyter environment, please rerun this cell to show the HTML representation or trust the notebook. <br />On GitHub, the HTML representation is unable to render, please try loading this page with nbviewer.org.</b></div><div class=\"sk-container\" hidden><div class=\"sk-item\"><div class=\"sk-estimator sk-toggleable\"><input class=\"sk-toggleable__control sk-hidden--visually\" id=\"sk-estimator-id-4\" type=\"checkbox\" checked><label for=\"sk-estimator-id-4\" class=\"sk-toggleable__label sk-toggleable__label-arrow\">HuberRegressor</label><div class=\"sk-toggleable__content\"><pre>HuberRegressor(alpha=0.0, epsilon=1)</pre></div></div></div></div></div>"
      ],
      "text/plain": [
       "HuberRegressor(alpha=0.0, epsilon=1)"
      ]
     },
     "execution_count": 38,
     "metadata": {},
     "output_type": "execute_result"
    }
   ],
   "source": [
    "#HuberRegressor\n",
    "modeloHuber = HuberRegressor(epsilon=1, alpha=0.0)\n",
    "modeloHuber.fit(X_train, y_train)"
   ]
  },
  {
   "cell_type": "code",
   "execution_count": 39,
   "id": "9addc272",
   "metadata": {},
   "outputs": [
    {
     "name": "stdout",
     "output_type": "stream",
     "text": [
      "Erro treino: 0.6779463869319409\n",
      "Erro teste: 0.5232254164398835\n"
     ]
    }
   ],
   "source": [
    "# Visualizar R^2\n",
    "print('Erro treino:', modeloHuber.score(X_train, y_train))\n",
    "print('Erro teste:', modeloHuber.score(X_test, y_test))"
   ]
  },
  {
   "cell_type": "code",
   "execution_count": 40,
   "id": "6248db34",
   "metadata": {},
   "outputs": [],
   "source": [
    "predt = modeloHuber.predict(X_train)   #predicao dados de treinamento\n",
    "pred = modeloHuber.predict(X_test)     #predicao dados de teste"
   ]
  },
  {
   "cell_type": "code",
   "execution_count": 41,
   "id": "ceadd1aa",
   "metadata": {},
   "outputs": [
    {
     "name": "stdout",
     "output_type": "stream",
     "text": [
      "Erro treino: 0.6779463869319409\n",
      "Erro teste: 0.5232254164398835\n"
     ]
    }
   ],
   "source": [
    "# Visualizar R^2 - função r2_score\n",
    "#r2_score(y_true, y_pred)\n",
    "print('Erro treino:', r2_score(y_train, predt))\n",
    "print('Erro teste:', r2_score(y_test, pred))"
   ]
  },
  {
   "cell_type": "code",
   "execution_count": 42,
   "id": "32685e60",
   "metadata": {},
   "outputs": [
    {
     "name": "stdout",
     "output_type": "stream",
     "text": [
      "MSE treino: 0.46280279461954305\n",
      "MSE teste: 0.500443240202388\n"
     ]
    }
   ],
   "source": [
    "#MSE\n",
    "print('MSE treino:', mean_squared_error(y_train, predt))\n",
    "print('MSE teste:', mean_squared_error(y_test, pred))"
   ]
  },
  {
   "cell_type": "code",
   "execution_count": 43,
   "id": "1d0787ad",
   "metadata": {},
   "outputs": [
    {
     "data": {
      "image/png": "[encoded data removed]",
      "text/plain": [
       "<Figure size 640x480 with 1 Axes>"
      ]
     },
     "metadata": {},
     "output_type": "display_data"
    }
   ],
   "source": [
    "# Plot Resultados\n",
    "plt.scatter(y_test , pred , color=\"green\", linewidth=2, label = \"Teste\")\n",
    "plt.scatter(y_train , predt , color=\"red\", linewidth=2, label = \"Treinamento\")\n",
    "plt.xlabel(\"Target - dados da tabela\")\n",
    "plt.ylabel(\"Predição - modelo LS\")\n",
    "plt.legend()\n",
    "plt.title(\"Regressão Huber\")\n",
    "plt.show()"
   ]
  },
  {
   "cell_type": "markdown",
   "id": "2c0b5529",
   "metadata": {},
   "source": [
    "### Modelos com regularização"
   ]
  },
  {
   "cell_type": "raw",
   "id": "0be889ef",
   "metadata": {},
   "source": [
    "REGRESSOR RIGDE"
   ]
  },
  {
   "cell_type": "code",
   "execution_count": 44,
   "id": "dbd87939",
   "metadata": {},
   "outputs": [
    {
     "data": {
      "text/plain": [
       "(2.465157141230092,\n",
       " array([ 0.67014232,  0.26171405, -0.1390221 ,  0.20844519,  0.30203826,\n",
       "        -0.27887077, -0.01872168,  0.2608539 ]))"
      ]
     },
     "execution_count": 44,
     "metadata": {},
     "output_type": "execute_result"
    }
   ],
   "source": [
    "#d)Treinamento - seleção de modelos\n",
    "#Incluindo regularização no modelo linear\n",
    "#When alpha = 0, the objective is equivalent to ordinary least squares, solved by the LinearRegression object. \n",
    "#For numerical reasons, using alpha = 0 with the Ridge object is not advised. \n",
    "#Instead, you should use the LinearRegression object\n",
    "\n",
    "freg = 0.25              #fator de regularização - lambda do Bishop\n",
    "\n",
    "ridge = Ridge(alpha=freg, solver=\"auto\")\n",
    "ridge.fit(X_train, y_train)\n",
    "ridge.intercept_, ridge.coef_"
   ]
  },
  {
   "cell_type": "code",
   "execution_count": 45,
   "id": "b4cffa05",
   "metadata": {},
   "outputs": [
    {
     "name": "stdout",
     "output_type": "stream",
     "text": [
      "Erro treino: 0.6943495719742855\n",
      "Erro teste: 0.505623259364695\n"
     ]
    }
   ],
   "source": [
    "# Visualizar R^2 - Ridge\n",
    "print('Erro treino:', ridge.score(X_train, y_train))\n",
    "print('Erro teste:', ridge.score(X_test, y_test))"
   ]
  },
  {
   "cell_type": "code",
   "execution_count": 46,
   "id": "7502968c",
   "metadata": {},
   "outputs": [
    {
     "name": "stdout",
     "output_type": "stream",
     "text": [
      "MSE treino: 0.43923081911540757\n",
      "MSE teste: 0.5189192261819301\n"
     ]
    }
   ],
   "source": [
    "#MSE\n",
    "\n",
    "#predicoes\n",
    "predt = ridge.predict(X_train)     #predicao dados de treinamento\n",
    "pred = ridge.predict(X_test)     #predicao dados de teste\n",
    "\n",
    "\n",
    "print('MSE treino:', mean_squared_error(y_train, predt))\n",
    "print('MSE teste:', mean_squared_error(y_test, pred))"
   ]
  },
  {
   "cell_type": "raw",
   "id": "efc4f449",
   "metadata": {},
   "source": [
    "LASSO"
   ]
  },
  {
   "cell_type": "code",
   "execution_count": 47,
   "id": "dab10020",
   "metadata": {},
   "outputs": [
    {
     "data": {
      "text/plain": [
       "(2.4686441972302338,\n",
       " array([0.52364644, 0.16212162, 0.        , 0.        , 0.06067155,\n",
       "        0.        , 0.        , 0.        ]))"
      ]
     },
     "execution_count": 47,
     "metadata": {},
     "output_type": "execute_result"
    }
   ],
   "source": [
    "#Lasso\n",
    "#When alpha = 0, the objective is equivalent to ordinary least squares, solved by the LinearRegression object. \n",
    "#For numerical reasons, using alpha = 0 with the Ridge object is not advised. \n",
    "#Instead, you should use the LinearRegression object\n",
    "lasso = Lasso(alpha=freg, max_iter=1000)\n",
    "lasso.fit(X_train, y_train)\n",
    "lasso.intercept_, lasso.coef_"
   ]
  },
  {
   "cell_type": "code",
   "execution_count": 48,
   "id": "82f69b70",
   "metadata": {},
   "outputs": [
    {
     "name": "stdout",
     "output_type": "stream",
     "text": [
      "Erro treino: 0.5680596439094503\n",
      "Erro teste: 0.5206076293233663\n"
     ]
    }
   ],
   "source": [
    "# Visualizar R^2 - Lasso\n",
    "print('Erro treino:', lasso.score(X_train, y_train))\n",
    "print('Erro teste:', lasso.score(X_test, y_test))"
   ]
  },
  {
   "cell_type": "code",
   "execution_count": 49,
   "id": "3c521fd4",
   "metadata": {},
   "outputs": [
    {
     "name": "stdout",
     "output_type": "stream",
     "text": [
      "MSE treino: 0.6207140544187021\n",
      "MSE teste: 0.5031909828714028\n"
     ]
    }
   ],
   "source": [
    "#MSE\n",
    "\n",
    "#predicoes\n",
    "predt = lasso.predict(X_train)     #predicao dados de treinamento\n",
    "pred = lasso.predict(X_test)     #predicao dados de teste\n",
    "\n",
    "\n",
    "print('MSE treino:', mean_squared_error(y_train, predt))\n",
    "print('MSE teste:', mean_squared_error(y_test, pred))"
   ]
  },
  {
   "cell_type": "raw",
   "id": "ed0cf43f",
   "metadata": {},
   "source": [
    "REGRESSOR SGD (LAMBDA =0.25 / L2 )"
   ]
  },
  {
   "cell_type": "code",
   "execution_count": 50,
   "id": "91b83965",
   "metadata": {},
   "outputs": [
    {
     "data": {
      "text/html": [
       "<style>#sk-container-id-5 {color: black;background-color: white;}#sk-container-id-5 pre{padding: 0;}#sk-container-id-5 div.sk-toggleable {background-color: white;}#sk-container-id-5 label.sk-toggleable__label {cursor: pointer;display: block;width: 100%;margin-bottom: 0;padding: 0.3em;box-sizing: border-box;text-align: center;}#sk-container-id-5 label.sk-toggleable__label-arrow:before {content: \"▸\";float: left;margin-right: 0.25em;color: #696969;}#sk-container-id-5 label.sk-toggleable__label-arrow:hover:before {color: black;}#sk-container-id-5 div.sk-estimator:hover label.sk-toggleable__label-arrow:before {color: black;}#sk-container-id-5 div.sk-toggleable__content {max-height: 0;max-width: 0;overflow: hidden;text-align: left;background-color: #f0f8ff;}#sk-container-id-5 div.sk-toggleable__content pre {margin: 0.2em;color: black;border-radius: 0.25em;background-color: #f0f8ff;}#sk-container-id-5 input.sk-toggleable__control:checked~div.sk-toggleable__content {max-height: 200px;max-width: 100%;overflow: auto;}#sk-container-id-5 input.sk-toggleable__control:checked~label.sk-toggleable__label-arrow:before {content: \"▾\";}#sk-container-id-5 div.sk-estimator input.sk-toggleable__control:checked~label.sk-toggleable__label {background-color: #d4ebff;}#sk-container-id-5 div.sk-label input.sk-toggleable__control:checked~label.sk-toggleable__label {background-color: #d4ebff;}#sk-container-id-5 input.sk-hidden--visually {border: 0;clip: rect(1px 1px 1px 1px);clip: rect(1px, 1px, 1px, 1px);height: 1px;margin: -1px;overflow: hidden;padding: 0;position: absolute;width: 1px;}#sk-container-id-5 div.sk-estimator {font-family: monospace;background-color: #f0f8ff;border: 1px dotted black;border-radius: 0.25em;box-sizing: border-box;margin-bottom: 0.5em;}#sk-container-id-5 div.sk-estimator:hover {background-color: #d4ebff;}#sk-container-id-5 div.sk-parallel-item::after {content: \"\";width: 100%;border-bottom: 1px solid gray;flex-grow: 1;}#sk-container-id-5 div.sk-label:hover label.sk-toggleable__label {background-color: #d4ebff;}#sk-container-id-5 div.sk-serial::before {content: \"\";position: absolute;border-left: 1px solid gray;box-sizing: border-box;top: 0;bottom: 0;left: 50%;z-index: 0;}#sk-container-id-5 div.sk-serial {display: flex;flex-direction: column;align-items: center;background-color: white;padding-right: 0.2em;padding-left: 0.2em;position: relative;}#sk-container-id-5 div.sk-item {position: relative;z-index: 1;}#sk-container-id-5 div.sk-parallel {display: flex;align-items: stretch;justify-content: center;background-color: white;position: relative;}#sk-container-id-5 div.sk-item::before, #sk-container-id-5 div.sk-parallel-item::before {content: \"\";position: absolute;border-left: 1px solid gray;box-sizing: border-box;top: 0;bottom: 0;left: 50%;z-index: -1;}#sk-container-id-5 div.sk-parallel-item {display: flex;flex-direction: column;z-index: 1;position: relative;background-color: white;}#sk-container-id-5 div.sk-parallel-item:first-child::after {align-self: flex-end;width: 50%;}#sk-container-id-5 div.sk-parallel-item:last-child::after {align-self: flex-start;width: 50%;}#sk-container-id-5 div.sk-parallel-item:only-child::after {width: 0;}#sk-container-id-5 div.sk-dashed-wrapped {border: 1px dashed gray;margin: 0 0.4em 0.5em 0.4em;box-sizing: border-box;padding-bottom: 0.4em;background-color: white;}#sk-container-id-5 div.sk-label label {font-family: monospace;font-weight: bold;display: inline-block;line-height: 1.2em;}#sk-container-id-5 div.sk-label-container {text-align: center;}#sk-container-id-5 div.sk-container {/* jupyter's `normalize.less` sets `[hidden] { display: none; }` but bootstrap.min.css set `[hidden] { display: none !important; }` so we also need the `!important` here to be able to override the default hidden behavior on the sphinx rendered scikit-learn.org. See: https://github.com/scikit-learn/scikit-learn/issues/21755 */display: inline-block !important;position: relative;}#sk-container-id-5 div.sk-text-repr-fallback {display: none;}</style><div id=\"sk-container-id-5\" class=\"sk-top-container\"><div class=\"sk-text-repr-fallback\"><pre>SGDRegressor(alpha=0.25)</pre><b>In a Jupyter environment, please rerun this cell to show the HTML representation or trust the notebook. <br />On GitHub, the HTML representation is unable to render, please try loading this page with nbviewer.org.</b></div><div class=\"sk-container\" hidden><div class=\"sk-item\"><div class=\"sk-estimator sk-toggleable\"><input class=\"sk-toggleable__control sk-hidden--visually\" id=\"sk-estimator-id-5\" type=\"checkbox\" checked><label for=\"sk-estimator-id-5\" class=\"sk-toggleable__label sk-toggleable__label-arrow\">SGDRegressor</label><div class=\"sk-toggleable__content\"><pre>SGDRegressor(alpha=0.25)</pre></div></div></div></div></div>"
      ],
      "text/plain": [
       "SGDRegressor(alpha=0.25)"
      ]
     },
     "execution_count": 50,
     "metadata": {},
     "output_type": "execute_result"
    }
   ],
   "source": [
    "#Gradiente descendente estocástico - regularizado\n",
    "#Ridge\n",
    "modeloSGDl2 = SGDRegressor(loss='squared_error', penalty='l2', alpha=freg)\n",
    "modeloSGDl2.fit(X_train, y_train)"
   ]
  },
  {
   "cell_type": "code",
   "execution_count": 51,
   "id": "731ea3a5",
   "metadata": {},
   "outputs": [
    {
     "name": "stdout",
     "output_type": "stream",
     "text": [
      "Erro treino: 0.6644804971068654\n",
      "Erro teste: 0.5287091980571441\n"
     ]
    }
   ],
   "source": [
    "# Visualizar R^2 - SGD - l2\n",
    "print('Erro treino:', modeloSGDl2.score(X_train, y_train))\n",
    "print('Erro teste:', modeloSGDl2.score(X_test, y_test))"
   ]
  },
  {
   "cell_type": "code",
   "execution_count": 52,
   "id": "ca3b7b6e",
   "metadata": {},
   "outputs": [
    {
     "name": "stdout",
     "output_type": "stream",
     "text": [
      "MSE treino: 0.48215376970631146\n",
      "MSE teste: 0.4946872256501605\n"
     ]
    }
   ],
   "source": [
    "#MSE\n",
    "\n",
    "#predicoes\n",
    "predt = modeloSGDl2.predict(X_train)     #predicao dados de treinamento\n",
    "pred = modeloSGDl2.predict(X_test)     #predicao dados de teste\n",
    "\n",
    "\n",
    "print('MSE treino:', mean_squared_error(y_train, predt))\n",
    "print('MSE teste:', mean_squared_error(y_test, pred))"
   ]
  },
  {
   "cell_type": "raw",
   "id": "0cab2454",
   "metadata": {},
   "source": [
    "REGRESSOR SGD (LAMBDA =0.25 / L1 )"
   ]
  },
  {
   "cell_type": "code",
   "execution_count": 53,
   "id": "77c1a8e0",
   "metadata": {},
   "outputs": [
    {
     "data": {
      "text/html": [
       "<style>#sk-container-id-6 {color: black;background-color: white;}#sk-container-id-6 pre{padding: 0;}#sk-container-id-6 div.sk-toggleable {background-color: white;}#sk-container-id-6 label.sk-toggleable__label {cursor: pointer;display: block;width: 100%;margin-bottom: 0;padding: 0.3em;box-sizing: border-box;text-align: center;}#sk-container-id-6 label.sk-toggleable__label-arrow:before {content: \"▸\";float: left;margin-right: 0.25em;color: #696969;}#sk-container-id-6 label.sk-toggleable__label-arrow:hover:before {color: black;}#sk-container-id-6 div.sk-estimator:hover label.sk-toggleable__label-arrow:before {color: black;}#sk-container-id-6 div.sk-toggleable__content {max-height: 0;max-width: 0;overflow: hidden;text-align: left;background-color: #f0f8ff;}#sk-container-id-6 div.sk-toggleable__content pre {margin: 0.2em;color: black;border-radius: 0.25em;background-color: #f0f8ff;}#sk-container-id-6 input.sk-toggleable__control:checked~div.sk-toggleable__content {max-height: 200px;max-width: 100%;overflow: auto;}#sk-container-id-6 input.sk-toggleable__control:checked~label.sk-toggleable__label-arrow:before {content: \"▾\";}#sk-container-id-6 div.sk-estimator input.sk-toggleable__control:checked~label.sk-toggleable__label {background-color: #d4ebff;}#sk-container-id-6 div.sk-label input.sk-toggleable__control:checked~label.sk-toggleable__label {background-color: #d4ebff;}#sk-container-id-6 input.sk-hidden--visually {border: 0;clip: rect(1px 1px 1px 1px);clip: rect(1px, 1px, 1px, 1px);height: 1px;margin: -1px;overflow: hidden;padding: 0;position: absolute;width: 1px;}#sk-container-id-6 div.sk-estimator {font-family: monospace;background-color: #f0f8ff;border: 1px dotted black;border-radius: 0.25em;box-sizing: border-box;margin-bottom: 0.5em;}#sk-container-id-6 div.sk-estimator:hover {background-color: #d4ebff;}#sk-container-id-6 div.sk-parallel-item::after {content: \"\";width: 100%;border-bottom: 1px solid gray;flex-grow: 1;}#sk-container-id-6 div.sk-label:hover label.sk-toggleable__label {background-color: #d4ebff;}#sk-container-id-6 div.sk-serial::before {content: \"\";position: absolute;border-left: 1px solid gray;box-sizing: border-box;top: 0;bottom: 0;left: 50%;z-index: 0;}#sk-container-id-6 div.sk-serial {display: flex;flex-direction: column;align-items: center;background-color: white;padding-right: 0.2em;padding-left: 0.2em;position: relative;}#sk-container-id-6 div.sk-item {position: relative;z-index: 1;}#sk-container-id-6 div.sk-parallel {display: flex;align-items: stretch;justify-content: center;background-color: white;position: relative;}#sk-container-id-6 div.sk-item::before, #sk-container-id-6 div.sk-parallel-item::before {content: \"\";position: absolute;border-left: 1px solid gray;box-sizing: border-box;top: 0;bottom: 0;left: 50%;z-index: -1;}#sk-container-id-6 div.sk-parallel-item {display: flex;flex-direction: column;z-index: 1;position: relative;background-color: white;}#sk-container-id-6 div.sk-parallel-item:first-child::after {align-self: flex-end;width: 50%;}#sk-container-id-6 div.sk-parallel-item:last-child::after {align-self: flex-start;width: 50%;}#sk-container-id-6 div.sk-parallel-item:only-child::after {width: 0;}#sk-container-id-6 div.sk-dashed-wrapped {border: 1px dashed gray;margin: 0 0.4em 0.5em 0.4em;box-sizing: border-box;padding-bottom: 0.4em;background-color: white;}#sk-container-id-6 div.sk-label label {font-family: monospace;font-weight: bold;display: inline-block;line-height: 1.2em;}#sk-container-id-6 div.sk-label-container {text-align: center;}#sk-container-id-6 div.sk-container {/* jupyter's `normalize.less` sets `[hidden] { display: none; }` but bootstrap.min.css set `[hidden] { display: none !important; }` so we also need the `!important` here to be able to override the default hidden behavior on the sphinx rendered scikit-learn.org. See: https://github.com/scikit-learn/scikit-learn/issues/21755 */display: inline-block !important;position: relative;}#sk-container-id-6 div.sk-text-repr-fallback {display: none;}</style><div id=\"sk-container-id-6\" class=\"sk-top-container\"><div class=\"sk-text-repr-fallback\"><pre>SGDRegressor(alpha=0.25, penalty=&#x27;l1&#x27;)</pre><b>In a Jupyter environment, please rerun this cell to show the HTML representation or trust the notebook. <br />On GitHub, the HTML representation is unable to render, please try loading this page with nbviewer.org.</b></div><div class=\"sk-container\" hidden><div class=\"sk-item\"><div class=\"sk-estimator sk-toggleable\"><input class=\"sk-toggleable__control sk-hidden--visually\" id=\"sk-estimator-id-6\" type=\"checkbox\" checked><label for=\"sk-estimator-id-6\" class=\"sk-toggleable__label sk-toggleable__label-arrow\">SGDRegressor</label><div class=\"sk-toggleable__content\"><pre>SGDRegressor(alpha=0.25, penalty=&#x27;l1&#x27;)</pre></div></div></div></div></div>"
      ],
      "text/plain": [
       "SGDRegressor(alpha=0.25, penalty='l1')"
      ]
     },
     "execution_count": 53,
     "metadata": {},
     "output_type": "execute_result"
    }
   ],
   "source": [
    "#Lasso\n",
    "modeloSGDl1 = SGDRegressor(loss='squared_error', penalty='l1', alpha=freg)\n",
    "modeloSGDl1.fit(X_train, y_train)"
   ]
  },
  {
   "cell_type": "code",
   "execution_count": 54,
   "id": "cfdfcd5b",
   "metadata": {},
   "outputs": [
    {
     "name": "stdout",
     "output_type": "stream",
     "text": [
      "Erro treino: 0.5670635136466637\n",
      "Erro teste: 0.5179846568761581\n"
     ]
    }
   ],
   "source": [
    "# Visualizar R^2 - SGD - l1\n",
    "print('Erro treino:', modeloSGDl1.score(X_train, y_train))\n",
    "print('Erro teste:', modeloSGDl1.score(X_test, y_test))"
   ]
  },
  {
   "cell_type": "code",
   "execution_count": 55,
   "id": "1ae9727a",
   "metadata": {},
   "outputs": [
    {
     "name": "stdout",
     "output_type": "stream",
     "text": [
      "MSE treino: 0.622145529957917\n",
      "MSE teste: 0.5059441682879592\n"
     ]
    }
   ],
   "source": [
    "#MSE\n",
    "\n",
    "#predicoes\n",
    "predt = modeloSGDl1.predict(X_train)     #predicao dados de treinamento\n",
    "pred = modeloSGDl1.predict(X_test)     #predicao dados de teste\n",
    "\n",
    "\n",
    "print('MSE treino:', mean_squared_error(y_train, predt))\n",
    "print('MSE teste:', mean_squared_error(y_test, pred))"
   ]
  },
  {
   "cell_type": "raw",
   "id": "80b0f2af",
   "metadata": {},
   "source": [
    "REGRESSOR HUBER (REGULARIZADO)"
   ]
  },
  {
   "cell_type": "code",
   "execution_count": 56,
   "id": "2cdc7fad",
   "metadata": {},
   "outputs": [
    {
     "data": {
      "text/html": [
       "<style>#sk-container-id-7 {color: black;background-color: white;}#sk-container-id-7 pre{padding: 0;}#sk-container-id-7 div.sk-toggleable {background-color: white;}#sk-container-id-7 label.sk-toggleable__label {cursor: pointer;display: block;width: 100%;margin-bottom: 0;padding: 0.3em;box-sizing: border-box;text-align: center;}#sk-container-id-7 label.sk-toggleable__label-arrow:before {content: \"▸\";float: left;margin-right: 0.25em;color: #696969;}#sk-container-id-7 label.sk-toggleable__label-arrow:hover:before {color: black;}#sk-container-id-7 div.sk-estimator:hover label.sk-toggleable__label-arrow:before {color: black;}#sk-container-id-7 div.sk-toggleable__content {max-height: 0;max-width: 0;overflow: hidden;text-align: left;background-color: #f0f8ff;}#sk-container-id-7 div.sk-toggleable__content pre {margin: 0.2em;color: black;border-radius: 0.25em;background-color: #f0f8ff;}#sk-container-id-7 input.sk-toggleable__control:checked~div.sk-toggleable__content {max-height: 200px;max-width: 100%;overflow: auto;}#sk-container-id-7 input.sk-toggleable__control:checked~label.sk-toggleable__label-arrow:before {content: \"▾\";}#sk-container-id-7 div.sk-estimator input.sk-toggleable__control:checked~label.sk-toggleable__label {background-color: #d4ebff;}#sk-container-id-7 div.sk-label input.sk-toggleable__control:checked~label.sk-toggleable__label {background-color: #d4ebff;}#sk-container-id-7 input.sk-hidden--visually {border: 0;clip: rect(1px 1px 1px 1px);clip: rect(1px, 1px, 1px, 1px);height: 1px;margin: -1px;overflow: hidden;padding: 0;position: absolute;width: 1px;}#sk-container-id-7 div.sk-estimator {font-family: monospace;background-color: #f0f8ff;border: 1px dotted black;border-radius: 0.25em;box-sizing: border-box;margin-bottom: 0.5em;}#sk-container-id-7 div.sk-estimator:hover {background-color: #d4ebff;}#sk-container-id-7 div.sk-parallel-item::after {content: \"\";width: 100%;border-bottom: 1px solid gray;flex-grow: 1;}#sk-container-id-7 div.sk-label:hover label.sk-toggleable__label {background-color: #d4ebff;}#sk-container-id-7 div.sk-serial::before {content: \"\";position: absolute;border-left: 1px solid gray;box-sizing: border-box;top: 0;bottom: 0;left: 50%;z-index: 0;}#sk-container-id-7 div.sk-serial {display: flex;flex-direction: column;align-items: center;background-color: white;padding-right: 0.2em;padding-left: 0.2em;position: relative;}#sk-container-id-7 div.sk-item {position: relative;z-index: 1;}#sk-container-id-7 div.sk-parallel {display: flex;align-items: stretch;justify-content: center;background-color: white;position: relative;}#sk-container-id-7 div.sk-item::before, #sk-container-id-7 div.sk-parallel-item::before {content: \"\";position: absolute;border-left: 1px solid gray;box-sizing: border-box;top: 0;bottom: 0;left: 50%;z-index: -1;}#sk-container-id-7 div.sk-parallel-item {display: flex;flex-direction: column;z-index: 1;position: relative;background-color: white;}#sk-container-id-7 div.sk-parallel-item:first-child::after {align-self: flex-end;width: 50%;}#sk-container-id-7 div.sk-parallel-item:last-child::after {align-self: flex-start;width: 50%;}#sk-container-id-7 div.sk-parallel-item:only-child::after {width: 0;}#sk-container-id-7 div.sk-dashed-wrapped {border: 1px dashed gray;margin: 0 0.4em 0.5em 0.4em;box-sizing: border-box;padding-bottom: 0.4em;background-color: white;}#sk-container-id-7 div.sk-label label {font-family: monospace;font-weight: bold;display: inline-block;line-height: 1.2em;}#sk-container-id-7 div.sk-label-container {text-align: center;}#sk-container-id-7 div.sk-container {/* jupyter's `normalize.less` sets `[hidden] { display: none; }` but bootstrap.min.css set `[hidden] { display: none !important; }` so we also need the `!important` here to be able to override the default hidden behavior on the sphinx rendered scikit-learn.org. See: https://github.com/scikit-learn/scikit-learn/issues/21755 */display: inline-block !important;position: relative;}#sk-container-id-7 div.sk-text-repr-fallback {display: none;}</style><div id=\"sk-container-id-7\" class=\"sk-top-container\"><div class=\"sk-text-repr-fallback\"><pre>HuberRegressor(alpha=0.25, epsilon=1)</pre><b>In a Jupyter environment, please rerun this cell to show the HTML representation or trust the notebook. <br />On GitHub, the HTML representation is unable to render, please try loading this page with nbviewer.org.</b></div><div class=\"sk-container\" hidden><div class=\"sk-item\"><div class=\"sk-estimator sk-toggleable\"><input class=\"sk-toggleable__control sk-hidden--visually\" id=\"sk-estimator-id-7\" type=\"checkbox\" checked><label for=\"sk-estimator-id-7\" class=\"sk-toggleable__label sk-toggleable__label-arrow\">HuberRegressor</label><div class=\"sk-toggleable__content\"><pre>HuberRegressor(alpha=0.25, epsilon=1)</pre></div></div></div></div></div>"
      ],
      "text/plain": [
       "HuberRegressor(alpha=0.25, epsilon=1)"
      ]
     },
     "execution_count": 56,
     "metadata": {},
     "output_type": "execute_result"
    }
   ],
   "source": [
    "#HuberRegressor\n",
    "modeloHuber = HuberRegressor(epsilon=1, alpha=freg)\n",
    "modeloHuber.fit(X_train, y_train)"
   ]
  },
  {
   "cell_type": "code",
   "execution_count": 57,
   "id": "2f431b5b",
   "metadata": {},
   "outputs": [
    {
     "name": "stdout",
     "output_type": "stream",
     "text": [
      "Erro treino: 0.678841034362982\n",
      "Erro teste: 0.5207955317758662\n"
     ]
    }
   ],
   "source": [
    "# Visualizar R^2\n",
    "print('Erro treino:', modeloHuber.score(X_train, y_train))\n",
    "print('Erro teste:', modeloHuber.score(X_test, y_test))"
   ]
  },
  {
   "cell_type": "code",
   "execution_count": 58,
   "id": "82261c59",
   "metadata": {},
   "outputs": [],
   "source": [
    "predt = modeloHuber.predict(X_train)   #predicao dados de treinamento\n",
    "pred = modeloHuber.predict(X_test)     #predicao dados de teste"
   ]
  },
  {
   "cell_type": "code",
   "execution_count": 59,
   "id": "fc65cfda",
   "metadata": {},
   "outputs": [
    {
     "name": "stdout",
     "output_type": "stream",
     "text": [
      "Erro treino: 0.678841034362982\n",
      "Erro teste: 0.5207955317758662\n"
     ]
    }
   ],
   "source": [
    "# Visualizar R^2 - função r2_score\n",
    "#r2_score(y_true, y_pred)\n",
    "print('Erro treino:', r2_score(y_train, predt))\n",
    "print('Erro teste:', r2_score(y_test, pred))"
   ]
  },
  {
   "cell_type": "code",
   "execution_count": 60,
   "id": "d3bed26b",
   "metadata": {},
   "outputs": [
    {
     "name": "stdout",
     "output_type": "stream",
     "text": [
      "MSE treino: 0.46151715361293955\n",
      "MSE teste: 0.502993752323858\n"
     ]
    }
   ],
   "source": [
    "#MSE\n",
    "print('MSE treino:', mean_squared_error(y_train, predt))\n",
    "print('MSE teste:', mean_squared_error(y_test, pred))"
   ]
  }
 ],
 "metadata": {
  "kernelspec": {
   "display_name": "Python 3 (ipykernel)",
   "language": "python",
   "name": "python3"
  },
  "language_info": {
   "codemirror_mode": {
    "name": "ipython",
    "version": 3
   },
   "file_extension": ".py",
   "mimetype": "text/x-python",
   "name": "python",
   "nbconvert_exporter": "python",
   "pygments_lexer": "ipython3",
   "version": "3.8.18"
  }
 },
 "nbformat": 4,
 "nbformat_minor": 5
}
